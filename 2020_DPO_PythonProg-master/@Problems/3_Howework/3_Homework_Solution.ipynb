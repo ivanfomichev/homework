{
 "cells": [
  {
   "cell_type": "markdown",
   "metadata": {},
   "source": [
    "### Центр непрерывного образования\n",
    "# Программа «Python для автоматизации и анализа данных»¶\n",
    "\n",
    "Лабораторная/Домашняя работа # 3  \n",
    "Автор: Михаил Густокашин\n",
    "\n",
    "#### Disclaimer\n",
    "В некоторых заданиях нужно считывать файлы и записывать ответ в файл. Пожалуйста, читайте файлы из той же папки, где лежит блокнот (не прописывайте к ним полный путь) или загружайте файл по ссылке. Файл с ответом нужно вложить в архив с блокнотом и архив добавить в Dropbox.\n",
    "\n",
    "Всего можно набрать 12 баллов, максимальная оценка за работу - 10."
   ]
  },
  {
   "cell_type": "markdown",
   "metadata": {},
   "source": [
    "### Задание 1. Скрейпинг cтраницы (1 балл)\n",
    "\n",
    "Мы сохранили страницу с википедии про языки программирования и сохранили по адресу https://stepik.org/media/attachments/lesson/209717/1.html\n",
    "Скачайте её с помощью скрипта на Питоне и посчитайте, какой язык упоминается чаще Python или C++ (ответ должен быть одной из этих двух строк). Необходимо просто подсчитать количество вхождений слова Python или C++ как подстроки. Тут не нужно пользоваться парсингом и bs, работайте со строками."
   ]
  },
  {
   "cell_type": "code",
   "execution_count": 2,
   "metadata": {},
   "outputs": [
    {
     "name": "stdout",
     "output_type": "stream",
     "text": [
      "C++\n"
     ]
    }
   ],
   "source": [
    "# ваше решение здесь\n",
    "import requests\n",
    "html = requests.get('https://stepik.org/media/attachments/lesson/209717/1.html').text\n",
    "\n",
    "# если не переводили к нижнему регистру, то все равно ок\n",
    "if html.lower().count('python') > html.lower().count('c++'):\n",
    "    print('Python')\n",
    "else:\n",
    "    print('C++')"
   ]
  },
  {
   "cell_type": "markdown",
   "metadata": {},
   "source": [
    "### Задание 2. Автоматизируем написание html скрипта (2 балла)\n",
    "В этой задаче вам необходимо научиться генерировать html-код на питоне и сдать на проверку html-файл, в котором будет таблица размером 10 на 10, которая должна содержать таблицу умножения для чисел от 1 до 10. При открытии вашего файла в браузере это должно выглядеть примерно так:\n",
    "\n",
    "![](table.jpg)\n",
    "\n",
    "```\n",
    "1. Ваш файл должен начинаться с тегов <html> и <body> и заканчиваться </body> и </html>.\n",
    "2. Для создания таблицы можно пользоваться тегами <table> (создание таблицы), \n",
    "<tr> (создание строки в таблице) и <td> (создание отдельной ячейки). \n",
    "Все открытые теги нужно закрыть, причем сделать это нужно в правильном порядке.\n",
    "3. Пожалуйста, не используйте никаких украшений и других тегов.\n",
    "```\n",
    "Ниже напишите код, который генерирует html и записывает его в файл, и приложите к архиву с вашим блокнотом файл **output2.html**\n"
   ]
  },
  {
   "cell_type": "code",
   "execution_count": 292,
   "metadata": {},
   "outputs": [],
   "source": [
    "# ваше решение здесь\n",
    "\n",
    "fh = open('output2.html', 'w')\n",
    "fh.write('<html><body><table>')\n",
    "for x in range(1, 11):\n",
    "    fh.write('<tr>')\n",
    "    for y in range(1, 11):\n",
    "        fh.write(f'<td>{x*y}</td>')\n",
    "    fh.write('</tr>')\n",
    "\n",
    "fh.write('</html></body></table>')\n",
    "fh.close()"
   ]
  },
  {
   "cell_type": "markdown",
   "metadata": {},
   "source": [
    "### Задание 3. Скрэйпинг ссылок (2 балла)\n",
    "\n",
    "*1 балл*  \n",
    "Мы сохранили статью с википедии, она доступна по ссылке https://stepik.org/media/attachments/lesson/258943/Moscow.html\n",
    "\n",
    "Вам необходимо обработать ее с помощью BeautifulSoup и подсчитать все внутренние ссылки, которые не содержат в себе двоеточия (не являются ссылкой на техническую статью в википедии) и не начинаются с символа #.\n",
    "\n",
    "Под ссылкой понимается содержимое аттрибута href тега a. Ссылка называется внешней, если она ведет на другой сайт (т.е. начинается с http:// или https://). Все остальные ссылки являются внутренними.\n",
    "Вам могут быть полезны методы find_all для супа (он позволяет найти все теги на странице), метод has_attr для тега (проверяет есть ли такой атрибут у тега) и доступ к атрибуту тега по аналогии со словарем.\n",
    "В качестве ответа выведите количество внутренних ссылок, удовлетворяющих условию.\n",
    "\n",
    "*1 балл*  \n",
    "В этой задаче достаточно обернуть в функцию то, что делает предыдущая и вызвать подсчет числа внутренних ссылок для двух статей: https://stepik.org/media/attachments/lesson/258943/Moscow.html и https://stepik.org/media/attachments/lesson/258944/New-York.html\n",
    "В качестве ответа на задачу выведите два числа через пробел.\n"
   ]
  },
  {
   "cell_type": "code",
   "execution_count": 293,
   "metadata": {},
   "outputs": [
    {
     "name": "stdout",
     "output_type": "stream",
     "text": [
      "1991\n"
     ]
    }
   ],
   "source": [
    "# Ваше решение здесь\n",
    "import requests\n",
    "from bs4 import BeautifulSoup\n",
    "\n",
    "soup = BeautifulSoup(requests.get('https://stepik.org/media/attachments/lesson/258943/Moscow.html').text, 'lxml')\n",
    "\n",
    "all_links = []\n",
    "\n",
    "for link in soup.find_all('a'):\n",
    "    \n",
    "    if link.has_attr('href'):\n",
    "        all_links.append(link.get('href'))\n",
    "        \n",
    "print(len([i for i in all_links if not i.startswith('http') and ':' not in i and not i.startswith('#')]))"
   ]
  },
  {
   "cell_type": "code",
   "execution_count": 294,
   "metadata": {},
   "outputs": [
    {
     "data": {
      "text/plain": [
       "['//upload.wikimedia.org/wikipedia/commons/7/71/%D0%9C%D0%BE%D1%81%D0%BA%D0%B2%D0%B0.ogg',\n",
       " '//upload.wikimedia.org/wikipedia/commons/f/f1/Moscow_Cableway.ogv',\n",
       " '//www.google.com/search?as_eq=wikipedia&q=%22Moscow%22',\n",
       " '//www.google.com/search?tbm=nws&q=%22Moscow%22+-wikipedia',\n",
       " '//scholar.google.com/scholar?q=%22Moscow%22',\n",
       " '//doi.org/10.2307%2F2856771',\n",
       " '//www.worldcat.org/issn/0038-7134',\n",
       " '//www.jstor.org/stable/2856771',\n",
       " '//doi.org/10.2307%2F126474',\n",
       " '//www.worldcat.org/issn/0036-0341',\n",
       " '//www.jstor.org/stable/126474',\n",
       " '//www.worldcat.org/issn/0362-4331',\n",
       " '//doi.org/10.1525%2Fcity.1998.10.1.269',\n",
       " '//shop.wikimedia.org',\n",
       " '//creativecommons.org/licenses/by-sa/3.0/',\n",
       " '//foundation.wikimedia.org/wiki/Terms_of_Use',\n",
       " '//foundation.wikimedia.org/wiki/Privacy_policy',\n",
       " '//www.wikimediafoundation.org/',\n",
       " '//en.m.wikipedia.org/w/index.php?title=Moscow&mobileaction=toggle_view_mobile']"
      ]
     },
     "execution_count": 294,
     "metadata": {},
     "output_type": "execute_result"
    }
   ],
   "source": [
    "# На самом деле, условие сформулировано так, что не отсекает некоторые внешние ссылки. \n",
    "# Мы засчитываем оба варианта.\n",
    "# См. ниже, что него не попало\n",
    "[i for i in all_links if not i.startswith('http') and ':' not in i and not i.startswith('#') and not i.startswith('/w')]"
   ]
  },
  {
   "cell_type": "code",
   "execution_count": 24,
   "metadata": {},
   "outputs": [
    {
     "name": "stdout",
     "output_type": "stream",
     "text": [
      "1991 3207\n"
     ]
    }
   ],
   "source": [
    "# ваше решние здесь\n",
    "def links_counter(link):\n",
    "    soup = BeautifulSoup(requests.get(link).text, 'lxml')\n",
    "\n",
    "    all_links = []\n",
    "\n",
    "    for link in soup.find_all('a'):\n",
    "        if link.has_attr('href'):\n",
    "            all_links.append(link.get('href'))\n",
    "        \n",
    "    return (len([i for i in all_links if not i.startswith('http') and ':' not in i and not i.startswith('#')]))\n",
    "\n",
    "print(links_counter('https://stepik.org/media/attachments/lesson/258943/Moscow.html'), links_counter('https://stepik.org/media/attachments/lesson/258944/New-York.html'))"
   ]
  },
  {
   "cell_type": "markdown",
   "metadata": {},
   "source": [
    "### Задание 4. Скрейпинг таблицы (2 балла)\n",
    "\n",
    "В файле https://stepik.org/media/attachments/lesson/209723/3.html находится одна таблица. Просуммируйте все числа в ней и введите в качестве ответа одно число - эту сумму. Для доступа к ячейкам используйте возможности BeautifulSoup.\n"
   ]
  },
  {
   "cell_type": "code",
   "execution_count": 295,
   "metadata": {},
   "outputs": [
    {
     "name": "stdout",
     "output_type": "stream",
     "text": [
      "1005425\n"
     ]
    }
   ],
   "source": [
    "soup = BeautifulSoup(requests.get('https://stepik.org/media/attachments/lesson/209723/3.html').text, 'lxml')\n",
    "numbers = []\n",
    "\n",
    "for td in soup.find_all('td'):\n",
    "    numbers.append(int(td.text))\n",
    "    \n",
    "print(sum(numbers))"
   ]
  },
  {
   "cell_type": "markdown",
   "metadata": {},
   "source": [
    "# Задание 5. Зарплата (1.5 балла)\n",
    "\n",
    "Главный бухгалтер компании \"Рога и копыта\" случайно удалил ведомость с начисленной зарплатой. К счастью, у него сохранились расчётные листки всех сотрудников. Помогите по этим расчётным листкам восстановить зарплатную ведомость. Архив с расчётными листками доступен по ссылке https://github.com/rogovich/2020_DPO_PythonProg/raw/master/%40Problems/3_Howework/rogaikopyta.zip(вы можете скачать и распаковать его вручную или самостоятельно научиться делать это с помощью скрипта на Питоне (например, вот a для zip как раз есть https://docs.python.org/3/library/zipfile.html ).\n",
    "\n",
    "Ведомость должна содержать 1000 строк, в каждой строке должно быть указано ФИО сотрудника и, через пробел, его зарплата. Сотрудники должны быть упорядочены по алфавиту. Сохраните ответ в файл и приложите его к архиву с решениями.\n",
    "\n",
    "**Ответ: файл output5.txt**\n"
   ]
  },
  {
   "cell_type": "code",
   "execution_count": 109,
   "metadata": {},
   "outputs": [],
   "source": [
    "# ваше решение здесь\n",
    "import zipfile\n",
    "import os\n",
    "import re\n",
    "\n",
    "z = zipfile.ZipFile('rogaikopyta.zip')\n",
    "z.extractall(path='RogaIKopyta/')"
   ]
  },
  {
   "cell_type": "code",
   "execution_count": 271,
   "metadata": {},
   "outputs": [],
   "source": [
    "wages_dict = {}\n",
    "\n",
    "for file in os.listdir('RogaIKopyta/'):\n",
    "    idx = re.findall('\\d+', file)[0]\n",
    "    wb = openpyxl.load_workbook('RogaIKopyta/' + file)\n",
    "    sheet = wb.active\n",
    "    wages_dict[idx] = [sheet['B2'].value, sheet['D2'].value]"
   ]
  },
  {
   "cell_type": "code",
   "execution_count": 278,
   "metadata": {},
   "outputs": [],
   "source": [
    "fh = open('wages.txt', 'w', encoding='utf8')\n",
    "i = 0\n",
    "for w in sorted(wages_dict, key=wages_dict.get):\n",
    "    fh.write(f'{wages_dict[w][0]} {wages_dict[w][1]}\\n')\n",
    "    \n",
    "fh.close()"
   ]
  },
  {
   "cell_type": "markdown",
   "metadata": {},
   "source": [
    "# Задание 6. Медиана (2 балла)\n",
    "\n",
    "Вася планирует карьеру и переезд. Для это составил таблицу, в которой для каждого региона записал зарплаты для разных интересные ему профессий. Таблица доступна по ссылке https://github.com/rogovich/2020_DPO_PythonProg/raw/master/%40Problems/3_Howework/salaries.xlsx. Выведите название региона с самой высокой медианной зарплатой (медианой называется элемент, стоящий в середине массива после его упорядочивания) и, через пробел, название профессии с самой высокой средней зарплатой по всем регионам."
   ]
  },
  {
   "cell_type": "code",
   "execution_count": 265,
   "metadata": {},
   "outputs": [],
   "source": [
    "# решение 1 через openpyxl. Можно было использовать openpyxl только для считывания данных\n",
    "# и операции по нахождению медианы делать уже с помощью средств python\n",
    "wb = openpyxl.load_workbook('salaries.xlsx')\n",
    "sheet = wb.active\n",
    "\n",
    "for row in sheet.row_dimensions:\n",
    "    if row == 1:\n",
    "        continue\n",
    "    sheet[f'I{row}'] = f\"=MEDIAN(B{row}:H{row})\"\n",
    "\n",
    "for col in sheet.column_dimensions:\n",
    "    if col in ['A', 'I']:\n",
    "        continue\n",
    "    sheet[f'{col}10'] = f\"=AVERAGE({col}2:{col}9)\"\n",
    "    \n",
    "wb.save('test.xlsx')\n",
    "wb.close()"
   ]
  },
  {
   "cell_type": "code",
   "execution_count": 269,
   "metadata": {},
   "outputs": [
    {
     "name": "stdout",
     "output_type": "stream",
     "text": [
      "(None, 'Программист', 'Менеджер по клинингу', 'Дизайнер онлайн-курсов', 'Собачий парикмахер', 'Учитель для нейросетей', 'Сотрудник конной милиции', 'Актёр на роль человека-бутерброда', None)\n",
      "('Москва', 765, 9876, 546585, 6, 65876, 765, 213, 765)\n",
      "('Улан-Батор', 87, 87698, 7698, 965765, 769, 659, 21523, 7698)\n",
      "('Посёлок гидроузла имени Куйбышева', 987595, 87, 5, 7676, 8765, 9, 4356, 4356)\n",
      "('Крёкшино', 9876, 8769, 9859, 897698, 7, 69, 342, 8769)\n",
      "('Станица Юго-Северная', 8769, 987687, 23, 1212, 9876, 23871, 3224, 8769)\n",
      "('Куала-Лумпур', 189710, 787, 765679, 9769, 57686, 769829, 53632, 57686)\n",
      "('Хабнарфьордюр ', 65, 76796, 807, 765685, 97659, 56913, 32, 56913)\n",
      "('Ытык-Кюёль', 769, 786578, 1368, 59625, 6758, 76587, 3453, 6758)\n",
      "(None, 149704.5, 244784.75, 166503, 338429.5, 30924.5, 116087.75, 10846.875, None)\n"
     ]
    }
   ],
   "source": [
    "# перед тем, как запускать эту ячейку - нужно открыть файл test.xlsx в excel и сохранить его \n",
    "# это связано с тем, что openpyxl не может выполнить расчетов формул\n",
    "# нам нужно, чтобы расчеты сохранились в кэше, тогда сможем их достать\n",
    "# есть другие библиотеки, которую позволяют обходить эту проблему элегантней\n",
    "wb = openpyxl.load_workbook('test.xlsx', data_only = True) # data_only помогает считать расчеты формул, а не запись формулы\n",
    "sheet = wb.active\n",
    "\n",
    "for v in sheet.values: # проверяем, что все правильно считалось и результаты работы формул закэшировались\n",
    "    print(v)\n",
    "\n",
    "\n",
    "jobs = {}\n",
    "regions = {}\n",
    "\n",
    "for col in sheet.column_dimensions:\n",
    "    if col in ['A', 'I']:\n",
    "        continue\n",
    "    jobs[sheet[f'{col}1'].value] = sheet[f'{col}10'].value\n",
    "    \n",
    "for row in sheet.row_dimensions:\n",
    "    if row in [1, 10]:\n",
    "        continue\n",
    "    regions[sheet[f'A{row}'].value] = sheet[f'I{row}'].value"
   ]
  },
  {
   "cell_type": "code",
   "execution_count": 268,
   "metadata": {},
   "outputs": [
    {
     "name": "stdout",
     "output_type": "stream",
     "text": [
      "Куала-Лумпур Собачий парикмахер\n"
     ]
    }
   ],
   "source": [
    "for region in sorted(regions, key = regions.get, reverse=True):\n",
    "    print(region, end=' ')\n",
    "    break\n",
    "    \n",
    "for job in sorted(jobs, key = jobs.get, reverse=True):\n",
    "    print(job)\n",
    "    break"
   ]
  },
  {
   "cell_type": "markdown",
   "metadata": {},
   "source": [
    "# Задание 7. Вася-завхоз (1.5 балла)\n",
    "\n",
    "Васю назначили завхозом в туристической группе и он подошёл к подготовке ответственно, составив справочник продуктов с указанием калорийности на 100 грамм, а также содержание белков, жиров и углеводов на 100 грамм продукта. Ему не удалось найти всю информацию, поэтому некоторые ячейки остались незаполненными (можно считать их значение равным нулю). Также он использовал какой-то странный офисный пакет и разделял целую и дробную часть чисел запятой. Таблица доступна по ссылке https://github.com/rogovich/2020_DPO_PythonProg/blob/master/%40Problems/3_Howework/trekking1.xlsx\n",
    "Вася хочет минимизировать вес продуктов и для этого брать самые калорийные продукты. Помогите ему и упорядочите продукты по убыванию калорийности. В случае, если продукты имеют одинаковую калорийность - упорядочите их по названию. \n",
    "\n",
    "В качестве ответа необходимо вывести названия продуктов, по одному в строке.\n"
   ]
  },
  {
   "cell_type": "code",
   "execution_count": 291,
   "metadata": {},
   "outputs": [
    {
     "name": "stdout",
     "output_type": "stream",
     "text": [
      "Шоколад молочный какао\n",
      "Шоколад молочный миндаль\n",
      "Сухофрукты\n",
      "Омлет с копченостями галагала\n",
      "Свинина сублимрованная\n",
      "Шоколад ремесленный\n",
      "Козинак подсолнечный\n",
      "Омлет с грибами галагала\n",
      "Козинак арахисовый\n",
      "Хлебцы льняные \"Тайские\"\n",
      "Колбаса с/к \"Еврейская полусухая\"\n",
      "Говядина сублимрованная\n",
      "Сухарики ржаные с семечками\n",
      "Хлебцы льняные Морские\n",
      "Суп говяжий с картофелем галагала\n",
      "Суп гороховый с копченостями\n",
      "Суп гороховый с копченостями галагала\n",
      "Суп куриный с картофелем галагала\n",
      "Суп-гуляш галагала\n",
      "Суп-харчо \"Острый\"\n",
      "Сыр Маасдам\n",
      "Сыр Чеддер\n",
      "Борщ Московский Галагала\n",
      "Крупа гречневая\n",
      "Рис пропаренный Увелка\n",
      "Свинина Кронидов\n",
      "Сухарики ржаные Finn Crisp\n",
      "Капеллини Макфа\n",
      "Сыр Гауда\n",
      "Кус Кус\n",
      "Каша Быстров\n",
      "Картофель сушеный\n",
      "Говядина Кронидов\n",
      "Хлебцы с чесноком и луком\n",
      "Суп томатный с рисом\n",
      "Балык \"Королевский\"\n",
      "Паутина\n"
     ]
    }
   ],
   "source": [
    "# ваше решение здесь\n",
    "wb = openpyxl.load_workbook('trekking1.xlsx')\n",
    "sheet = wb.active\n",
    "\n",
    "items = []\n",
    "\n",
    "for value in sheet.values:\n",
    "    items.append(value)\n",
    "    \n",
    "for item in sorted(sorted(items[1:], key = lambda x: x[0]), key = lambda x: x[1], reverse = True):\n",
    "    print(item[0])"
   ]
  },
  {
   "cell_type": "code",
   "execution_count": null,
   "metadata": {},
   "outputs": [],
   "source": []
  }
 ],
 "metadata": {
  "kernelspec": {
   "display_name": "Python 3",
   "language": "python",
   "name": "python3"
  },
  "language_info": {
   "codemirror_mode": {
    "name": "ipython",
    "version": 3
   },
   "file_extension": ".py",
   "mimetype": "text/x-python",
   "name": "python",
   "nbconvert_exporter": "python",
   "pygments_lexer": "ipython3",
   "version": "3.6.5"
  }
 },
 "nbformat": 4,
 "nbformat_minor": 2
}
