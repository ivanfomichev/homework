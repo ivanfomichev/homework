{
 "cells": [
  {
   "cell_type": "markdown",
   "metadata": {},
   "source": [
    "# Python для анализа данных\n",
    "\n",
    "## Web-scraping: используем Selenium для автоматического управления браузером\n",
    "\n",
    "*Автор: Алла Тамбовцева, НИУ ВШЭ*  "
   ]
  },
  {
   "cell_type": "markdown",
   "metadata": {},
   "source": [
    "### Автоматизация работы в браузере: библиотека `selenium`"
   ]
  },
  {
   "cell_type": "markdown",
   "metadata": {},
   "source": [
    "Библиотека `selenium` – набор инструментов для интерактивной работы в браузере средствами Python. Вообще Selenium ‒ это целый проект, в котором есть разные инструменты. Мы рассмотрим один из самых распространенных ‒ Selenium WebDriver, модуль, который позволяется Python встраиваться в браузер и работать в нем как пользователь: кликать на ссылки и кнопки, заполнять формы, выбирать опции в меню и прочее. \n",
    "\n",
    "Мы будем использовать WebDriver для решения такой задачи. Необходимо выгрузить все адреса участковых избирательных  комиссий Ивановской области. Для этого нужно написать код, который будет открывать в окне браузера раздел *По номеру избирательного участка*, вводить в поле с номером номер участка и выбирать регион из предлагаемого списка. Итак, начнем."
   ]
  },
  {
   "cell_type": "markdown",
   "metadata": {},
   "source": [
    "Сначала загрузим веб-драйвер из библиотеки `selenium`. "
   ]
  },
  {
   "cell_type": "code",
   "execution_count": 4,
   "metadata": {},
   "outputs": [
    {
     "name": "stdout",
     "output_type": "stream",
     "text": [
      "Collecting selenium\n",
      "  Downloading selenium-3.141.0-py2.py3-none-any.whl (904 kB)\n",
      "\u001b[K     |████████████████████████████████| 904 kB 361 kB/s eta 0:00:01\n",
      "\u001b[?25hRequirement already satisfied: urllib3 in /home/ifomichev/anaconda3/lib/python3.8/site-packages (from selenium) (1.25.9)\n",
      "Installing collected packages: selenium\n",
      "Successfully installed selenium-3.141.0\n"
     ]
    }
   ],
   "source": [
    "!pip install selenium"
   ]
  },
  {
   "cell_type": "code",
   "execution_count": 3,
   "metadata": {},
   "outputs": [],
   "source": [
    "from selenium import webdriver as wb\n",
    "from bs4 import BeautifulSoup "
   ]
  },
  {
   "cell_type": "markdown",
   "metadata": {},
   "source": [
    "Если Python пишет `No module called selenium`, убедитесь, что у вас установлена эта библиотека. Самый надежный способ установить ее ‒ найти *Anaconda Command Prompt*, вписать строку `pip install selenium` и нажать *Enter*. Если *Anaconda Command Prompt* не находится, можно поступить так: запустить Jupyter Notebook, щелкнуть на черное окно консоли, нажать *Ctrl+Z* (остановить запуск Jupyter), а потом так же ввести в этом окне строку `pip install selenium` и нажать *Enter*.\n",
    "\n",
    "Затем нужно выбрать браузер и открыть новое окно через Python. Для этого нужно вызвать функцию, которая отвечает за открытие браузера. Мы будем вызывать Chrome."
   ]
  },
  {
   "cell_type": "code",
   "execution_count": 4,
   "metadata": {},
   "outputs": [],
   "source": [
    "#br = wb.Chrome(r'chromedriver.exe')"
   ]
  },
  {
   "cell_type": "markdown",
   "metadata": {},
   "source": [
    "Если код выше не исполняется, скачайте файл с веб-драйвером [отсюда](https://sites.google.com/a/chromium.org/chromedriver/downloads), распакуйте архив и пропишите путь к файлу в круглых скобках (в примере файл с расширением exe на Windows). "
   ]
  },
  {
   "cell_type": "code",
   "execution_count": 164,
   "metadata": {},
   "outputs": [],
   "source": [
    "br = wb.Chrome('/home/ifomichev/Downloads/chromedriver')\n",
    "br.get(\"http://www.cikrf.ru/services/lk_address/?do=find_by_uik\")"
   ]
  },
  {
   "cell_type": "code",
   "execution_count": 165,
   "metadata": {},
   "outputs": [],
   "source": [
    "# br.get(\"http://www.cikrf.ru/services/lk_address/?do=find_by_uik\")"
   ]
  },
  {
   "cell_type": "code",
   "execution_count": 159,
   "metadata": {},
   "outputs": [],
   "source": [
    "# принимаем условия\n",
    "button = br.find_element_by_css_selector(\"button.digital-button\")\n",
    "# button = br.find_element_by_xpath(\"/html/body/div[2]/div/div/button\")\n",
    "button.click()\n",
    "\n"
   ]
  },
  {
   "cell_type": "code",
   "execution_count": 160,
   "metadata": {},
   "outputs": [],
   "source": [
    "#жмем на таб \"номер избирательного...\"\n",
    "button = br.find_element_by_xpath(\"/html/body/div[1]/div/div[2]/div/div[4]/form/div[1]/div[2]\")\n",
    "button.click()"
   ]
  },
  {
   "cell_type": "markdown",
   "metadata": {},
   "source": [
    "Ура, страница открылась. Что на этой странице есть интересного? Два поля: ввод номера участка и регион. Сохраним номер участка в переменную `n_uik`, а регион ‒ в `reg`."
   ]
  },
  {
   "cell_type": "code",
   "execution_count": 124,
   "metadata": {},
   "outputs": [
    {
     "data": {
      "text/plain": [
       "244"
      ]
     },
     "execution_count": 124,
     "metadata": {},
     "output_type": "execute_result"
    }
   ],
   "source": [
    "n_uik = 244\n",
    "reg = \"Ивановская область\"\n",
    "n_uik"
   ]
  },
  {
   "cell_type": "markdown",
   "metadata": {},
   "source": [
    "Вопрос: как эти два поля заполнить? Нужно найти их на странице, открытой в браузере, и вписать туда нужные строки. Только сделать это нужно через Python. Воспользуемся инструментом CSS Selector (установить расширение для Chrome можно [здесь](https://chrome.google.com/webstore/detail/selectorgadget/mhjhnkcfbdhnjickkkdbjoemdmbfginb)). Для этого нужно открыть страницу в обычном браузере и кликнуть на расширение в правом углу. "
   ]
  },
  {
   "cell_type": "markdown",
   "metadata": {},
   "source": [
    "![](css.png)"
   ]
  },
  {
   "cell_type": "markdown",
   "metadata": {},
   "source": [
    "Теперь, когда мы будем наводить курсор мыши на объект на странице в таком режиме и кликать, внизу будет отображаться его название в css. "
   ]
  },
  {
   "cell_type": "markdown",
   "metadata": {},
   "source": [
    "![](css-uik.png)"
   ]
  },
  {
   "cell_type": "markdown",
   "metadata": {},
   "source": [
    "Теперь осталось зафиксировать поле с таким названием и ввести туда номер УИКа. "
   ]
  },
  {
   "cell_type": "code",
   "execution_count": 125,
   "metadata": {},
   "outputs": [],
   "source": [
    "#кликаем на список\n",
    "button = br.find_element_by_xpath(\"/html/body/div[1]/div/div[2]/div/div[4]/form/div[3]/div[1]/div/span/span[1]/span/span[2]\")\n",
    "button.click()"
   ]
  },
  {
   "cell_type": "code",
   "execution_count": 126,
   "metadata": {},
   "outputs": [],
   "source": [
    "# добавляем в список значение \n",
    "region_field = br.find_element_by_xpath(\"/html/body/span/span/span[1]/input\")\n",
    "region_field.send_keys(reg)"
   ]
  },
  {
   "cell_type": "code",
   "execution_count": 127,
   "metadata": {},
   "outputs": [],
   "source": [
    "#нажимаем на выбранный регион\n",
    "button = br.find_element_by_css_selector('li.select2-results__option--highlighted')\n",
    "button.click()"
   ]
  },
  {
   "cell_type": "code",
   "execution_count": 128,
   "metadata": {},
   "outputs": [],
   "source": [
    "# находим поле с #uik и сохяем\n",
    "uik_field = br.find_element_by_xpath(\"/html/body/div[1]/div/div[2]/div/div[4]/form/div[3]/div[2]/div/input\")\n",
    "# вводим номер УИКа в поле - метод send_keys\n",
    "uik_field.send_keys(n_uik)"
   ]
  },
  {
   "cell_type": "code",
   "execution_count": 129,
   "metadata": {},
   "outputs": [],
   "source": [
    "#кнопка Искать\n",
    "button = br.find_element_by_xpath('//*[@id=\"send\"]')\n",
    "button.click()"
   ]
  },
  {
   "cell_type": "markdown",
   "metadata": {},
   "source": [
    "![](css-enter.png)"
   ]
  },
  {
   "cell_type": "markdown",
   "metadata": {},
   "source": [
    "Ура, получилось. А как быть с регионом? Там же не поле ввода, а целое выпадающее меню с опциями... Действовать можно аналогичным образом."
   ]
  },
  {
   "cell_type": "markdown",
   "metadata": {},
   "source": [
    "Осталось только кликнуть на кнопку *Отправить запрос*. Сначала найдем ее с помощью CSS Selector, а потом кликнем по ней ‒ воспользуемся методом `.click()`:"
   ]
  },
  {
   "cell_type": "markdown",
   "metadata": {},
   "source": [
    "В браузере открылась страница с адресом избирательного участка. "
   ]
  },
  {
   "cell_type": "markdown",
   "metadata": {},
   "source": [
    "![](page.png)"
   ]
  },
  {
   "cell_type": "markdown",
   "metadata": {},
   "source": [
    "Осталось подгрузить `re` и найти на странице адрес участка с помощью регулярных выражений."
   ]
  },
  {
   "cell_type": "code",
   "execution_count": 130,
   "metadata": {},
   "outputs": [
    {
     "name": "stdout",
     "output_type": "stream",
     "text": [
      "155800, Ивановская область, городской округ Кинешма, город Кинешма, улица Григория Королева, дом 10, здание \"Кинешемский политехнический колледж\"\n",
      "155800, Ивановская область, городской округ Кинешма, город Кинешма, улица Григория Королева, дом 10, здание \"Кинешемский политехнический колледж\"\n"
     ]
    }
   ],
   "source": [
    "raw = br.page_source\n",
    "soup = BeautifulSoup(raw, \"html.parser\")\n",
    "for a in soup.find_all('span', {\"class\": \"address\"}):\n",
    "    if a.text != '':\n",
    "        print(a.text)\n"
   ]
  },
  {
   "cell_type": "code",
   "execution_count": null,
   "metadata": {},
   "outputs": [],
   "source": []
  },
  {
   "cell_type": "code",
   "execution_count": 16,
   "metadata": {},
   "outputs": [],
   "source": [
    "import re"
   ]
  },
  {
   "cell_type": "code",
   "execution_count": 17,
   "metadata": {},
   "outputs": [
    {
     "name": "stdout",
     "output_type": "stream",
     "text": [
      "<re.Match object; span=(239505, 239650), match='155800, Ивановская область, городской округ Кинеш>\n"
     ]
    }
   ],
   "source": [
    "p = re.search(r'(?<=<span class=\\\"address\\\">)[^\\/]+?(?=<\\/span>)', br.page_source)\n",
    "print(p)"
   ]
  },
  {
   "cell_type": "code",
   "execution_count": 18,
   "metadata": {},
   "outputs": [],
   "source": [
    "# p.group(0) # текст адреса"
   ]
  },
  {
   "cell_type": "markdown",
   "metadata": {},
   "source": [
    "Получилось! Единственное, хорошо бы учесть случаи, когда адреса участка в таком виде на странице нет (такие случаи бывают: иногда страница создана не по шаблону, иногда указан адрес территориальной комиссии). Для этого нам понадобится условие. Добавим «развилку»: пусть Python пробует найти адрес через указанное регулярное выражение, а если не найдет, то ищет его с помощью другого регулярного выражения. "
   ]
  },
  {
   "cell_type": "code",
   "execution_count": 19,
   "metadata": {},
   "outputs": [
    {
     "name": "stdout",
     "output_type": "stream",
     "text": [
      "<re.Match object; span=(239505, 239650), match='155800, Ивановская область, городской округ Кинеш>\n"
     ]
    }
   ],
   "source": [
    "if p is None:\n",
    "    p = re.search(r\"Адрес: ([^<]+)\", br.page_source)\n",
    "    addr = p.group(1)\n",
    "print(p)"
   ]
  },
  {
   "cell_type": "markdown",
   "metadata": {},
   "source": [
    "Теперь у нас есть универсальный код, который позволяет найти адрес избирательного участка по номеру. Теперь оформим этот код в функцию, чтобы можно было подставлять в нее любой номер и регион, и применять ее в цикле, итерируя по номерам участков."
   ]
  },
  {
   "cell_type": "code",
   "execution_count": 132,
   "metadata": {},
   "outputs": [],
   "source": [
    "from time import sleep\n",
    "import pandas as pd\n",
    "\n",
    "br.implicitly_wait(2)"
   ]
  },
  {
   "cell_type": "markdown",
   "metadata": {},
   "source": [
    "Теперь напишем функцию `get_uik_address()`, которая принимает на вход два аргумента, номер участка и регион, и возвращает строку с адресом. Для этого в тело функции скопируем код с прошлого занятия:"
   ]
  },
  {
   "cell_type": "code",
   "execution_count": 131,
   "metadata": {},
   "outputs": [],
   "source": [
    "br.get(\"http://www.cikrf.ru/services/lk_address/?do=find_by_uik\")\n",
    "    "
   ]
  },
  {
   "cell_type": "code",
   "execution_count": 119,
   "metadata": {},
   "outputs": [
    {
     "name": "stdout",
     "output_type": "stream",
     "text": [
      "245\n"
     ]
    }
   ],
   "source": [
    "# uik_field = br.find_element_by_xpath(\"/html/body/div[1]/div/div[2]/div/div[4]/form/div[3]/div[2]/div/input\")\n",
    "\n",
    "# print(uik_field.get_attribute('value'))"
   ]
  },
  {
   "cell_type": "code",
   "execution_count": 133,
   "metadata": {},
   "outputs": [],
   "source": [
    "from selenium.webdriver import ActionChains\n",
    "from selenium.webdriver.common.keys import Keys "
   ]
  },
  {
   "cell_type": "code",
   "execution_count": 172,
   "metadata": {},
   "outputs": [],
   "source": [
    "action = ActionChains(br)\n",
    "button = br.find_element_by_xpath(\"/html/body/div[1]/div/div[2]/div/div[4]/form/div[3]/div[2]/div/input\")\n",
    "button.click()\n",
    "action.key_down(Keys.LEFT_CONTROL).send_keys('a').key_up(Keys.LEFT_CONTROL).perform()\n",
    "uik_field = br.find_element_by_xpath(\"/html/body/div[1]/div/div[2]/div/div[4]/form/div[3]/div[2]/div/input\")\n",
    "uik_field.send_keys(246)"
   ]
  },
  {
   "cell_type": "code",
   "execution_count": 140,
   "metadata": {},
   "outputs": [],
   "source": [
    "#кнопка Искать\n",
    "button = br.find_element_by_xpath('//*[@id=\"send\"]')\n",
    "button.click()"
   ]
  },
  {
   "cell_type": "code",
   "execution_count": null,
   "metadata": {},
   "outputs": [],
   "source": []
  },
  {
   "cell_type": "code",
   "execution_count": 166,
   "metadata": {},
   "outputs": [],
   "source": [
    "def get_uik_address_initial(n_uik, reg):\n",
    "\n",
    "#     br.get(\"http://www.cikrf.ru/services/lk_address/?do=find_by_uik\")\n",
    "#     sleep(5.0) # еще добавим задержку в 1.5 секунды\n",
    "#     uik_field = br.find_element_by_css_selector(\"#uik\")\n",
    "#     uik_field.send_keys(n_uik)\n",
    "    \n",
    "#     region_field = br.find_element_by_name(\"subject\")\n",
    "#     region_field.send_keys(reg)\n",
    "#     sleep(1.5) # еще добавим задержку в 1.5 секунды\n",
    "    \n",
    "#     button = br.find_element_by_link_text(\"Отправить запрос\")\n",
    "#     button.click()\n",
    "#     sleep(1.5) # еще добавим задержку в 1.5 секунды\n",
    "\n",
    "\n",
    "    #принимаем условия\n",
    "    button = br.find_element_by_css_selector(\"button.digital-button\")\n",
    "    button.click()\n",
    "    sleep(1.5) # еще добавим задержку в 1.5 секунды\n",
    "    \n",
    "    #жмем на таб \"номер избирательного...\"\n",
    "    button = br.find_element_by_xpath(\"/html/body/div[1]/div/div[2]/div/div[4]/form/div[1]/div[2]\")\n",
    "    button.click()\n",
    "\n",
    "    #кликаем на список по регионам\n",
    "    button = br.find_element_by_xpath(\"/html/body/div[1]/div/div[2]/div/div[4]/form/div[3]/div[1]/div/span/span[1]/span/span[2]\")\n",
    "    button.click()\n",
    "    \n",
    "    # добавляем в список значение \n",
    "    region_field = br.find_element_by_xpath(\"/html/body/span/span/span[1]/input\")\n",
    "    region_field.send_keys(reg)\n",
    "    \n",
    "    #нажимаем на выбранный регион\n",
    "    button = br.find_element_by_css_selector('li.select2-results__option--highlighted')\n",
    "    button.click()\n",
    "    \n",
    "    # находим поле с #uik и сохяем\n",
    "    uik_field = br.find_element_by_xpath(\"/html/body/div[1]/div/div[2]/div/div[4]/form/div[3]/div[2]/div/input\")\n",
    "    # вводим номер УИКа в поле - метод send_keys\n",
    "    uik_field.send_keys(n_uik)\n",
    "    \n",
    "    #кнопка Искать\n",
    "    button = br.find_element_by_xpath('//*[@id=\"send\"]')\n",
    "    button.click()\n",
    "    sleep(2) # еще добавим задержку в 1.5 секунды\n",
    "    \n",
    "    soup = BeautifulSoup(br.page_source, \"html.parser\")\n",
    "    for a in soup.find_all('span', {\"class\": \"address\"}):\n",
    "        if a.text != '':\n",
    "            return a.text\n",
    "    \n",
    "    return ''\n",
    "#     br.page_source\n",
    "    \n",
    "# #     p = re.search(r\"Адрес помещения для голосования: ([^<]+)\", br.page_source)\n",
    "#     p = re.search(r'(?<=<span class=\\\"address\\\">)[^\\/]+?(?=<\\/span>)', br.page_source)\n",
    "#     if p is None:\n",
    "        \n",
    "#         p = re.search(r\"Адрес: ([^<]+)\", br.page_source)\n",
    "    \n",
    "#     addr = p.group(0)\n",
    "        \n",
    "#     return addr"
   ]
  },
  {
   "cell_type": "code",
   "execution_count": 188,
   "metadata": {},
   "outputs": [],
   "source": [
    "def get_uik_address(n_uik, reg):\n",
    "\n",
    "    br.get(\"http://www.cikrf.ru/services/lk_address/?do=find_by_uik\")\n",
    "    sleep(2) # еще добавим задержку в 1.5 секунды\n",
    "    action = ActionChains(br)\n",
    "    #жмем на поле \"номер избирательного...\"\n",
    "    button = br.find_element_by_xpath(\"/html/body/div[1]/div/div[2]/div/div[4]/form/div[3]/div[2]/div/input\")\n",
    "    button.click()\n",
    "    \n",
    "    #выделяем текущее значение uik и вставляем новое\n",
    "    action.key_down(Keys.LEFT_CONTROL).send_keys('a').key_up(Keys.LEFT_CONTROL).perform()\n",
    "    uik_field = br.find_element_by_xpath(\"/html/body/div[1]/div/div[2]/div/div[4]/form/div[3]/div[2]/div/input\")\n",
    "    uik_field.send_keys(n_uik)\n",
    "    \n",
    "    #кнопка Искать\n",
    "    button = br.find_element_by_xpath('//*[@id=\"send\"]')\n",
    "    button.click()\n",
    "    sleep(2) # еще добавим задержку в 1.5 секунды\n",
    "    \n",
    "    soup = BeautifulSoup(br.page_source, \"html.parser\")\n",
    "    for a in soup.find_all('span', {\"class\": \"address\"}):\n",
    "        if a.text != '':\n",
    "            return a.text\n",
    "    \n",
    "    return ''\n"
   ]
  },
  {
   "cell_type": "markdown",
   "metadata": {},
   "source": [
    "Теперь попробуем взять несколько номеров участков и посмотреть, что получается в цикле. Только давайте перестрахуемся ‒ напишем выражение с исключением, чтобы в случае, если страница не содержит адреса или загружается некорректно, наш код не ломался и не происходило выхода из цикла. В случае, если все хорошо (адрес есть), Python будет его сохранять («ветка» c `try`), в случае, если все плохо (адреса нет ни в каком виде), Python будет записывать вместо него пустую строку (ветка с `except`) и двигаться дальше. "
   ]
  },
  {
   "cell_type": "code",
   "execution_count": 190,
   "metadata": {},
   "outputs": [],
   "source": [
    "uiks = range(240, 246)\n",
    "br = wb.Chrome('/home/ifomichev/Downloads/chromedriver')\n",
    "br.get(\"http://www.cikrf.ru/services/lk_address/?do=find_by_uik\")"
   ]
  },
  {
   "cell_type": "code",
   "execution_count": 191,
   "metadata": {},
   "outputs": [
    {
     "name": "stdout",
     "output_type": "stream",
     "text": [
      "240 155330, Ивановская область, городской округ Вичуга, город Вичуга, улица Покровского, дом 6, филиал Федерального государственного бюджетного образовательного учреждения в г. Вичуга Ивановской области\n",
      "241 155330, Ивановская область, городской округ Вичуга, город Вичуга, улица Желябова, дом 6, здание МБОУ ООШ №6\n",
      "242 155330, Ивановская область, городской округ Вичуга, город Вичуга, улица Ленинская, дом 26, здание МБУК \"Клуб имени Шагова\"\n",
      "243 155330, Ивановская область, городской округ Вичуга, город Вичуга, улица Ленинская, дом 26, здание МБУК \"Клуб имени Шагова\"\n",
      "244 155800, Ивановская область, городской округ Кинешма, город Кинешма, улица Григория Королева, дом 10, здание \"Кинешемский политехнический колледж\"\n",
      "245 155800, Ивановская область, городской округ Кинешма, город Кинешма, улица Наволокская, дом 18, здание школы №17\n"
     ]
    }
   ],
   "source": [
    "addresses = []\n",
    "\n",
    "for u in uiks:\n",
    "    try:\n",
    "        if u == uiks[0]:\n",
    "            address = get_uik_address_initial(u, \"Ивановская область\")\n",
    "        else:\n",
    "            address = get_uik_address(u, \"Ивановская область\")\n",
    "    except Exception as e:\n",
    "        print(e)\n",
    "        address = \"\"\n",
    "    addresses.append(address)\n",
    "    print(u, address)"
   ]
  },
  {
   "cell_type": "markdown",
   "metadata": {},
   "source": [
    "Работает! Создадим список со всеми номерами избирательных участков Ивановской области:"
   ]
  },
  {
   "cell_type": "code",
   "execution_count": 40,
   "metadata": {},
   "outputs": [],
   "source": [
    "ivanovo = range(1, 777) # вроде все, см здесь новый список - http://www.ivanovo.izbirkom.ru/docs/4272/"
   ]
  },
  {
   "cell_type": "markdown",
   "metadata": {},
   "source": [
    "**Внимание:** исполнение следующей ячейки займет много времени (примерно полтора часа). Если просто хотите посмотреть, как это работает (не выгружая информацию по всем участкам), уменьшите правое значение в `range()` в строчке выше."
   ]
  },
  {
   "cell_type": "code",
   "execution_count": null,
   "metadata": {},
   "outputs": [],
   "source": [
    "ivanovo_addr = []\n",
    "\n",
    "for i in ivanovo:\n",
    "    try:\n",
    "        address = get_uik_address(i, \"Ивановская область\")\n",
    "    except:\n",
    "        address = \"\"\n",
    "    ivanovo_addr.append(address)"
   ]
  },
  {
   "cell_type": "markdown",
   "metadata": {},
   "source": [
    "**Важно:** периодически открывайте окно браузера, в котором Python ищет избирательные участки! Это не только приятно (смотреть, как в полях для поиска все заполняется без нашего участия), но и полезно: так можно заметить, если что-то пошло не так. История из жизни: опечаталась в букве внутри цикла, Python 777 раз открыл страницу с избирательным участком 244 и сохранил одинаковые адреса. "
   ]
  },
  {
   "cell_type": "markdown",
   "metadata": {},
   "source": [
    "Создадим датафрейм из словаря, ключами которого служат названия столбцов таблицы, а значениями – списки элементов этих столбцов."
   ]
  },
  {
   "cell_type": "code",
   "execution_count": 11,
   "metadata": {},
   "outputs": [],
   "source": [
    "df = pd.DataFrame({'uik': ivanovo, 'address': ivanovo_addr})"
   ]
  },
  {
   "cell_type": "code",
   "execution_count": 12,
   "metadata": {},
   "outputs": [
    {
     "data": {
      "text/html": [
       "<div>\n",
       "<style scoped>\n",
       "    .dataframe tbody tr th:only-of-type {\n",
       "        vertical-align: middle;\n",
       "    }\n",
       "\n",
       "    .dataframe tbody tr th {\n",
       "        vertical-align: top;\n",
       "    }\n",
       "\n",
       "    .dataframe thead th {\n",
       "        text-align: right;\n",
       "    }\n",
       "</style>\n",
       "<table border=\"1\" class=\"dataframe\">\n",
       "  <thead>\n",
       "    <tr style=\"text-align: right;\">\n",
       "      <th></th>\n",
       "      <th>uik</th>\n",
       "      <th>address</th>\n",
       "    </tr>\n",
       "  </thead>\n",
       "  <tbody>\n",
       "    <tr>\n",
       "      <th>0</th>\n",
       "      <td>1</td>\n",
       "      <td>153012, Ивановская область, городской округ Ив...</td>\n",
       "    </tr>\n",
       "    <tr>\n",
       "      <th>1</th>\n",
       "      <td>2</td>\n",
       "      <td>153012, Ивановская область, городской округ Ив...</td>\n",
       "    </tr>\n",
       "    <tr>\n",
       "      <th>2</th>\n",
       "      <td>3</td>\n",
       "      <td>153000, Ивановская область, городской округ Ив...</td>\n",
       "    </tr>\n",
       "    <tr>\n",
       "      <th>3</th>\n",
       "      <td>4</td>\n",
       "      <td>153012, Ивановская область, городской округ Ив...</td>\n",
       "    </tr>\n",
       "    <tr>\n",
       "      <th>4</th>\n",
       "      <td>5</td>\n",
       "      <td>153012, Ивановская область, городской округ Ив...</td>\n",
       "    </tr>\n",
       "  </tbody>\n",
       "</table>\n",
       "</div>"
      ],
      "text/plain": [
       "   uik                                            address\n",
       "0    1  153012, Ивановская область, городской округ Ив...\n",
       "1    2  153012, Ивановская область, городской округ Ив...\n",
       "2    3  153000, Ивановская область, городской округ Ив...\n",
       "3    4  153012, Ивановская область, городской округ Ив...\n",
       "4    5  153012, Ивановская область, городской округ Ив..."
      ]
     },
     "execution_count": 12,
     "metadata": {},
     "output_type": "execute_result"
    }
   ],
   "source": [
    "df.head()"
   ]
  },
  {
   "cell_type": "code",
   "execution_count": 13,
   "metadata": {},
   "outputs": [
    {
     "data": {
      "text/plain": [
       "['153012, Ивановская область, городской округ Иваново, город Иваново, Ленинский район, проспект Шереметевский, дом 8, здание ФГБОУ ВО \"Ивановская государственная медицинская академия\" Министерства здравоохранения Российской Федерации',\n",
       " '153012, Ивановская область, городской округ Иваново, город Иваново, Ленинский район, проспект Шереметевский, дом 10, здание ФГБОУ ВО \"Ивановский государственный химико-технологический университет\"',\n",
       " '153000, Ивановская область, городской округ Иваново, город Иваново, Ленинский район, проспект Шереметевский, дом 21, здание Текстильного института ФГБОУ ВО \"Ивановский государственный политехнический университет\"',\n",
       " '153012, Ивановская область, городской округ Иваново, город Иваново, Ленинский район, улица Арсения, дом 33/16, здание МАОУ лицей № 21',\n",
       " '153012, Ивановская область, городской округ Иваново, город Иваново, Ленинский район, улица Арсения, дом 33/16, здание МАОУ лицей № 21',\n",
       " '153012, Ивановская область, городской округ Иваново, город Иваново, Ленинский район, улица Сакко, дом 45, здание Культурно-спортивный центр',\n",
       " '153012, Ивановская область, городской округ Иваново, город Иваново, Ленинский район, улица Колотилова, дом 43, здание МБУ ДО Дом детского творчества № 3',\n",
       " '153012, Ивановская область, городской округ Иваново, город Иваново, Ленинский район, улица Суворова, дом 72, здание МБУ ДО \"Центр развития детской одаренности\"',\n",
       " '153012, Ивановская область, городской округ Иваново, город Иваново, Ленинский район, улица Бубнова, дом 49, здание Центральная городская библиотека им. Я.П. Гарелина',\n",
       " '153000, Ивановская область, городской округ Иваново, город Иваново, Ленинский район, улица Смирнова, дом 103, здание МБОУ \"Средняя школа № 53\"']"
      ]
     },
     "execution_count": 13,
     "metadata": {},
     "output_type": "execute_result"
    }
   ],
   "source": [
    "list(df.address)[0:10]"
   ]
  },
  {
   "cell_type": "markdown",
   "metadata": {},
   "source": [
    "Сохраним таблицу в csv-файл:"
   ]
  },
  {
   "cell_type": "code",
   "execution_count": 14,
   "metadata": {},
   "outputs": [],
   "source": [
    "df.to_csv('Ivanovo.csv')"
   ]
  }
 ],
 "metadata": {
  "kernelspec": {
   "display_name": "Python 3",
   "language": "python",
   "name": "python3"
  },
  "language_info": {
   "codemirror_mode": {
    "name": "ipython",
    "version": 3
   },
   "file_extension": ".py",
   "mimetype": "text/x-python",
   "name": "python",
   "nbconvert_exporter": "python",
   "pygments_lexer": "ipython3",
   "version": "3.8.3"
  }
 },
 "nbformat": 4,
 "nbformat_minor": 4
}
