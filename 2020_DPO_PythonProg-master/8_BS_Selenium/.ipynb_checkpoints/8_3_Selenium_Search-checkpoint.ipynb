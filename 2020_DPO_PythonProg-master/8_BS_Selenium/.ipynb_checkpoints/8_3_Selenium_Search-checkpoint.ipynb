{
 "cells": [
  {
   "cell_type": "markdown",
   "metadata": {},
   "source": [
    "# Python для анализа данных\n",
    "\n",
    "## Web-scraping: поисковые запросы с Selenium\n",
    "\n",
    "*Автор: Алла Тамбовцева, НИУ ВШЭ*  "
   ]
  },
  {
   "cell_type": "markdown",
   "metadata": {},
   "source": [
    "Посмотрим на другие примеры использования `selenium`. \n",
    "\n",
    "**Пример.** Зайдем на сайт книжного магазина и найдем все книги про Python. Загрузим библиотеку, веб-драйвер и откроем страницу в браузере через Python."
   ]
  },
  {
   "cell_type": "code",
   "execution_count": 85,
   "metadata": {},
   "outputs": [],
   "source": [
    "from selenium import webdriver as wb\n",
    "br = wb.Chrome('/home/ifomichev/Downloads/chromedriver')\n",
    "\n",
    "# открываем страницу в Chrome в автоматическом режиме\n",
    "br.get(\"http://www.biblio-globus.ru/\")"
   ]
  },
  {
   "cell_type": "markdown",
   "metadata": {},
   "source": [
    "Найдем с помощью CSS Selector'а (*SelectorGadget*) поле для ввода названия книги или автора. "
   ]
  },
  {
   "cell_type": "code",
   "execution_count": 87,
   "metadata": {},
   "outputs": [],
   "source": [
    "field = br.find_element_by_css_selector(\"#search_string\")"
   ]
  },
  {
   "cell_type": "markdown",
   "metadata": {},
   "source": [
    "Сохраним запрос:"
   ]
  },
  {
   "cell_type": "code",
   "execution_count": 88,
   "metadata": {},
   "outputs": [],
   "source": [
    "topic = \"Python\"  "
   ]
  },
  {
   "cell_type": "markdown",
   "metadata": {},
   "source": [
    "Введем запрос в поле для поиска (`.send_keys`) и подождем чуть-чуть:"
   ]
  },
  {
   "cell_type": "code",
   "execution_count": 89,
   "metadata": {},
   "outputs": [],
   "source": [
    "field.send_keys(topic)\n",
    "br.implicitly_wait(2)  # подождем пару секунд"
   ]
  },
  {
   "cell_type": "markdown",
   "metadata": {},
   "source": [
    "Теперь найдем кнопку для поиска (значок *лупа* рядом со строкой поиска) через CSS Selector:"
   ]
  },
  {
   "cell_type": "code",
   "execution_count": 90,
   "metadata": {},
   "outputs": [],
   "source": [
    "submit = br.find_element_by_css_selector(\"#search_submit\")"
   ]
  },
  {
   "cell_type": "markdown",
   "metadata": {},
   "source": [
    "Кликнем на нее:"
   ]
  },
  {
   "cell_type": "code",
   "execution_count": 91,
   "metadata": {},
   "outputs": [],
   "source": [
    "submit.click()"
   ]
  },
  {
   "cell_type": "markdown",
   "metadata": {},
   "source": [
    "Сохраним первую страницу с результатами в переменную `page1`."
   ]
  },
  {
   "cell_type": "code",
   "execution_count": 60,
   "metadata": {},
   "outputs": [],
   "source": [
    "page1 = br.page_source"
   ]
  },
  {
   "cell_type": "code",
   "execution_count": 61,
   "metadata": {},
   "outputs": [],
   "source": [
    "# page1"
   ]
  },
  {
   "cell_type": "markdown",
   "metadata": {},
   "source": [
    "Теперь обработаем эту страницу через `BeautifulSoup`:"
   ]
  },
  {
   "cell_type": "code",
   "execution_count": 62,
   "metadata": {},
   "outputs": [],
   "source": [
    "from bs4 import BeautifulSoup"
   ]
  },
  {
   "cell_type": "code",
   "execution_count": 63,
   "metadata": {},
   "outputs": [],
   "source": [
    "soup1 = BeautifulSoup(page1, 'lxml')"
   ]
  },
  {
   "cell_type": "markdown",
   "metadata": {},
   "source": [
    "Найдем все названия книг на этой странице. По исходному коду можно увидеть, что они имеют тэг `a` с атрибутом `class`, равным `name`:"
   ]
  },
  {
   "cell_type": "code",
   "execution_count": 64,
   "metadata": {},
   "outputs": [
    {
     "data": {
      "text/plain": [
       "[<a class=\"name\" href=\"/search/catalog/details/10703284\">Генетические алгоритмы на Python</a>,\n",
       " <a class=\"name\" href=\"/search/catalog/details/10597875\">Изучаем Python, том 1</a>,\n",
       " <a class=\"name\" href=\"/search/catalog/details/10545061\">Python и машинное обучение: машинное и глубокое обучение с использованием Python, scikit-learn и TenFlow</a>,\n",
       " <a class=\"name\" href=\"/search/catalog/details/10399903\">Введение в машинное обучение с помощью Python</a>,\n",
       " <a class=\"name\" href=\"/search/catalog/details/10507653\">Автоматизация рутинных задач с помощью Python</a>,\n",
       " <a class=\"name\" href=\"/search/catalog/details/9419720\">Программирование на Python 3</a>,\n",
       " <a class=\"name\" href=\"/search/catalog/details/10655162\">Криптография и взлом шифров на Python</a>,\n",
       " <a class=\"name\" href=\"/search/catalog/details/10621759\">Сумка-шоппер ErichKrause® 10L Purple Python</a>,\n",
       " <a class=\"name\" href=\"/search/catalog/details/10526544\">Python. Справочник. Полное описание языка</a>,\n",
       " <a class=\"name\" href=\"/search/catalog/details/10493284\">Стандартная библиотека Python 3</a>]"
      ]
     },
     "execution_count": 64,
     "metadata": {},
     "output_type": "execute_result"
    }
   ],
   "source": [
    "soup1.find_all('a', {'class':'name'})"
   ]
  },
  {
   "cell_type": "markdown",
   "metadata": {},
   "source": [
    "С помощью списковых включений выберем из ссылок с тэгом `<a>` текст (так мы уже делали, и не раз)."
   ]
  },
  {
   "cell_type": "code",
   "execution_count": 65,
   "metadata": {},
   "outputs": [],
   "source": [
    "books1 = [b.text for b in soup1.find_all('a', {'class':'name'})]"
   ]
  },
  {
   "cell_type": "code",
   "execution_count": 66,
   "metadata": {},
   "outputs": [
    {
     "data": {
      "text/plain": [
       "['Генетические алгоритмы на Python',\n",
       " 'Изучаем Python, том 1',\n",
       " 'Python и машинное обучение: машинное и глубокое обучение с использованием Python, scikit-learn и TenFlow',\n",
       " 'Введение в машинное обучение с помощью Python',\n",
       " 'Автоматизация рутинных задач с помощью Python',\n",
       " 'Программирование на Python 3',\n",
       " 'Криптография и взлом шифров на Python',\n",
       " 'Сумка-шоппер ErichKrause® 10L Purple Python',\n",
       " 'Python. Справочник. Полное описание языка',\n",
       " 'Стандартная библиотека Python 3']"
      ]
     },
     "execution_count": 66,
     "metadata": {},
     "output_type": "execute_result"
    }
   ],
   "source": [
    "books1"
   ]
  },
  {
   "cell_type": "markdown",
   "metadata": {},
   "source": [
    "Теперь аналогичным образом сгрузим информацию об авторах:"
   ]
  },
  {
   "cell_type": "code",
   "execution_count": 67,
   "metadata": {},
   "outputs": [],
   "source": [
    "authors1 = [a.text for a in soup1.find_all('div', {'class': 'author'})]"
   ]
  },
  {
   "cell_type": "markdown",
   "metadata": {},
   "source": [
    "Сгрузим расположение:"
   ]
  },
  {
   "cell_type": "code",
   "execution_count": 68,
   "metadata": {},
   "outputs": [],
   "source": [
    "place1 = [p.text for p in soup1.find_all('div', {'class':'placement'})]"
   ]
  },
  {
   "cell_type": "code",
   "execution_count": 69,
   "metadata": {},
   "outputs": [
    {
     "data": {
      "text/plain": [
       "['Расположение в торговом зале: Уровень 1, зал № 07, секция 08, шкаф 85, полка 05',\n",
       " 'Расположение в торговом зале: Уровень 1, зал № 07, секция 08, шкаф 76, полка 01',\n",
       " 'Расположение в торговом зале: Уровень 1, зал № 07, секция 08, шкаф 76, полка 01',\n",
       " 'Расположение в торговом зале: Уровень 1, зал № 07, секция 08, шкаф 85, полка 05',\n",
       " 'Расположение в торговом зале: Уровень 1, зал № 07, секция 08, шкаф 76, полка 06',\n",
       " 'Расположение в торговом зале: Уровень 1, зал № 07, секция 08, шкаф 76, полка 05',\n",
       " 'Расположение в торговом зале: Уровень 1, зал № 07, секция 08, шкаф 76, полка 08',\n",
       " 'Расположение в торговом зале: Уровень 1, зал № 09, секция 05, шкаф 31, полка 01',\n",
       " 'Расположение в торговом зале: Уровень 1, зал № 07, секция 08, шкаф 76, полка 01',\n",
       " 'Расположение в торговом зале: Уровень 1, зал № 07, секция 08, шкаф 76, полка 01']"
      ]
     },
     "execution_count": 69,
     "metadata": {},
     "output_type": "execute_result"
    }
   ],
   "source": [
    "place1"
   ]
  },
  {
   "cell_type": "markdown",
   "metadata": {},
   "source": [
    "И, конечно, цену:"
   ]
  },
  {
   "cell_type": "code",
   "execution_count": 70,
   "metadata": {},
   "outputs": [],
   "source": [
    "price1 = [p.text for p in soup1.find_all('div', \n",
    "                                         {'class':'title_data price'})]"
   ]
  },
  {
   "cell_type": "code",
   "execution_count": 71,
   "metadata": {},
   "outputs": [
    {
     "data": {
      "text/plain": [
       "['Цена: 2469,00 руб.',\n",
       " 'Цена: 2769,00 руб.',\n",
       " 'Цена: 2769,00 руб.',\n",
       " 'Цена: 2769,00 руб.',\n",
       " 'Цена: 1659,00 руб.',\n",
       " 'Цена: 2879,00 руб.',\n",
       " 'Цена: 1659,00 руб.',\n",
       " 'Цена: 419,00 руб.',\n",
       " 'Цена: 2769,00 руб.',\n",
       " 'Цена: 3319,00 руб.']"
      ]
     },
     "execution_count": 71,
     "metadata": {},
     "output_type": "execute_result"
    }
   ],
   "source": [
    "price1"
   ]
  },
  {
   "cell_type": "markdown",
   "metadata": {},
   "source": [
    "Осталось пройтись по всем страницам, которые были выданы в результате поиска. Для примера перейдем на страницу 2 и на этом остановимся."
   ]
  },
  {
   "cell_type": "code",
   "execution_count": 50,
   "metadata": {},
   "outputs": [],
   "source": [
    "# next_p = br.find_element_by_css_selector('.next_page')"
   ]
  },
  {
   "cell_type": "code",
   "execution_count": 51,
   "metadata": {},
   "outputs": [],
   "source": [
    "# next_p.click()"
   ]
  },
  {
   "cell_type": "markdown",
   "metadata": {},
   "source": [
    "Проделаем то же самое, что и с первой страницей. По-хорошему нужно написать функцию, которая будет искать на странице названия книг, их расположение и цену. Но оставим это в качестве задания читателю :)"
   ]
  },
  {
   "cell_type": "code",
   "execution_count": 22,
   "metadata": {},
   "outputs": [],
   "source": [
    "# page2 = br.page_source\n",
    "# soup2 = BeautifulSoup(page2, 'lxml')\n",
    "# books2 = [b.text for b in soup2.find_all('a', {'class':'name'})]\n",
    "# author2 = [a.text for a in soup2.find_all('div', {'class': 'author'})]\n",
    "# place2 = [p.text for p in soup2.find_all('div', {'class':'placement'})]\n",
    "# price2 = [p.text for p in soup2.find_all('div', {'class':'title_data price'})]"
   ]
  },
  {
   "cell_type": "code",
   "execution_count": 92,
   "metadata": {},
   "outputs": [],
   "source": [
    "from time import sleep"
   ]
  },
  {
   "cell_type": "code",
   "execution_count": 134,
   "metadata": {},
   "outputs": [],
   "source": [
    "def page_scrap(url):\n",
    "    soup = BeautifulSoup(url, 'lxml')\n",
    "    books = [b.text for b in soup.find_all('a', {'class':'name'})]\n",
    "    author = [a.text for a in soup.find_all('div', {'class': 'author'})]\n",
    "    while len(books) != len(author):\n",
    "            books.extend(' ') \n",
    "    place = [p.text for p in soup.find_all('div', {'class':'placement'})]\n",
    "    while len(place) != len(books):\n",
    "            place.extend(' ') \n",
    "    price = [p.text for p in soup.find_all('div', {'class':'title_data price'})]\n",
    "    while len(price) != len(place):\n",
    "            price.extend(' ') \n",
    "    return books, author, place, price"
   ]
  },
  {
   "cell_type": "code",
   "execution_count": 133,
   "metadata": {},
   "outputs": [
    {
     "data": {
      "text/plain": [
       "['Расположение в торговом зале: Уровень 1, зал № 07, секция 08, шкаф 85, полка 01',\n",
       " 'Расположение в торговом зале: Уровень 1, зал № 07, секция 08, шкаф 76, полка 06',\n",
       " 'Расположение в торговом зале: Уровень 1, зал № 07, секция 08, шкаф 76, полка 07',\n",
       " 'Расположение в торговом зале: Уровень 1, зал № 07, секция 08, шкаф 76, полка 07',\n",
       " 'Расположение в торговом зале: Уровень 1, зал № 07, секция 08, шкаф 76, полка 07',\n",
       " ' ',\n",
       " ' ',\n",
       " ' ',\n",
       " ' ',\n",
       " ' ']"
      ]
     },
     "execution_count": 133,
     "metadata": {},
     "output_type": "execute_result"
    }
   ],
   "source": [
    "page = br.page_source\n",
    "soup = BeautifulSoup(page, 'lxml')\n",
    "books = [b.text for b in soup.find_all('a', {'class':'name'})]\n",
    "place = [p.text for p in soup.find_all('div', {'class':'placement'})]\n",
    "while len(place) != len(books):\n",
    "            place.extend(' ') \n",
    "place"
   ]
  },
  {
   "cell_type": "code",
   "execution_count": 135,
   "metadata": {},
   "outputs": [],
   "source": [
    "allbooks = []\n",
    "allauthors = []\n",
    "allplaces = []\n",
    "allprices =[]"
   ]
  },
  {
   "cell_type": "code",
   "execution_count": 136,
   "metadata": {},
   "outputs": [
    {
     "name": "stdout",
     "output_type": "stream",
     "text": [
      "Message: no such element: Unable to locate element: {\"method\":\"css selector\",\"selector\":\".next_page\"}\n",
      "  (Session info: chrome=84.0.4147.105)\n",
      "\n"
     ]
    }
   ],
   "source": [
    "lastpage = False\n",
    "while lastpage == False:\n",
    "    try:\n",
    "        page = br.page_source\n",
    "        books, authors, places, prices = page_scrap(page)\n",
    "        allbooks.extend(books)\n",
    "        allauthors.extend(authors)\n",
    "        allplaces.extend(places)\n",
    "        allprices.extend(prices)\n",
    "        next_p = br.find_element_by_css_selector('.next_page')\n",
    "        next_p.click()\n",
    "        sleep(2)\n",
    "    except Exception as e:\n",
    "        \n",
    "        print(e)\n",
    "        lastpage = True\n",
    "    "
   ]
  },
  {
   "cell_type": "code",
   "execution_count": 137,
   "metadata": {},
   "outputs": [
    {
     "name": "stdout",
     "output_type": "stream",
     "text": [
      "85\n",
      "85\n",
      "85\n",
      "85\n"
     ]
    }
   ],
   "source": [
    "print(len(allbooks))\n",
    "print(len(allauthors))\n",
    "print(len(allplaces))\n",
    "print(len(allprices))"
   ]
  },
  {
   "cell_type": "markdown",
   "metadata": {},
   "source": [
    "Расширим списки результатов с первой страницы данными, полученными со второй страницы, используя метод `.extend()`."
   ]
  },
  {
   "cell_type": "code",
   "execution_count": 23,
   "metadata": {},
   "outputs": [],
   "source": [
    "# books1.extend(books2)\n",
    "# authors1.extend(books2)\n",
    "# place1.extend(place2)\n",
    "# price1.extend(price2)"
   ]
  },
  {
   "cell_type": "markdown",
   "metadata": {},
   "source": [
    "Осталось импортировать библиотеку `pandas` и создать датафрейм."
   ]
  },
  {
   "cell_type": "code",
   "execution_count": 138,
   "metadata": {},
   "outputs": [],
   "source": [
    "import pandas as pd"
   ]
  },
  {
   "cell_type": "markdown",
   "metadata": {},
   "source": [
    "Для разнообразия создадим датафрейм не из списка списков, а из словаря. Ключами словаря будут названия столбцов в таблице, а значениями – списки с сохраненной информацией (названия книг, цены и проч.)."
   ]
  },
  {
   "cell_type": "code",
   "execution_count": 139,
   "metadata": {},
   "outputs": [],
   "source": [
    "df = pd.DataFrame({'book': allbooks, 'author': allauthors,\n",
    "                   'placement': allplaces, 'price': allprices})"
   ]
  },
  {
   "cell_type": "code",
   "execution_count": 140,
   "metadata": {},
   "outputs": [
    {
     "data": {
      "text/html": [
       "<div>\n",
       "<style scoped>\n",
       "    .dataframe tbody tr th:only-of-type {\n",
       "        vertical-align: middle;\n",
       "    }\n",
       "\n",
       "    .dataframe tbody tr th {\n",
       "        vertical-align: top;\n",
       "    }\n",
       "\n",
       "    .dataframe thead th {\n",
       "        text-align: right;\n",
       "    }\n",
       "</style>\n",
       "<table border=\"1\" class=\"dataframe\">\n",
       "  <thead>\n",
       "    <tr style=\"text-align: right;\">\n",
       "      <th></th>\n",
       "      <th>book</th>\n",
       "      <th>author</th>\n",
       "      <th>placement</th>\n",
       "      <th>price</th>\n",
       "    </tr>\n",
       "  </thead>\n",
       "  <tbody>\n",
       "    <tr>\n",
       "      <th>0</th>\n",
       "      <td>Генетические алгоритмы на Python</td>\n",
       "      <td>Вирсански</td>\n",
       "      <td>Расположение в торговом зале: Уровень 1, зал №...</td>\n",
       "      <td>Цена: 2469,00 руб.</td>\n",
       "    </tr>\n",
       "    <tr>\n",
       "      <th>1</th>\n",
       "      <td>Изучаем Python, том 1</td>\n",
       "      <td>М.  Лутц</td>\n",
       "      <td>Расположение в торговом зале: Уровень 1, зал №...</td>\n",
       "      <td>Цена: 2769,00 руб.</td>\n",
       "    </tr>\n",
       "    <tr>\n",
       "      <th>2</th>\n",
       "      <td>Python и машинное обучение: машинное и глубоко...</td>\n",
       "      <td>С. Рашка, В. Мирджалили</td>\n",
       "      <td>Расположение в торговом зале: Уровень 1, зал №...</td>\n",
       "      <td>Цена: 2769,00 руб.</td>\n",
       "    </tr>\n",
       "    <tr>\n",
       "      <th>3</th>\n",
       "      <td>Введение в машинное обучение с помощью Python</td>\n",
       "      <td>А. Мюллер, С. Гвидо</td>\n",
       "      <td>Расположение в торговом зале: Уровень 1, зал №...</td>\n",
       "      <td>Цена: 2769,00 руб.</td>\n",
       "    </tr>\n",
       "    <tr>\n",
       "      <th>4</th>\n",
       "      <td>Автоматизация рутинных задач с помощью Python</td>\n",
       "      <td>Э. Свейгарт</td>\n",
       "      <td>Расположение в торговом зале: Уровень 1, зал №...</td>\n",
       "      <td>Цена: 1659,00 руб.</td>\n",
       "    </tr>\n",
       "  </tbody>\n",
       "</table>\n",
       "</div>"
      ],
      "text/plain": [
       "                                                book                   author  \\\n",
       "0                   Генетические алгоритмы на Python                Вирсански   \n",
       "1                              Изучаем Python, том 1                 М.  Лутц   \n",
       "2  Python и машинное обучение: машинное и глубоко...  С. Рашка, В. Мирджалили   \n",
       "3      Введение в машинное обучение с помощью Python      А. Мюллер, С. Гвидо   \n",
       "4      Автоматизация рутинных задач с помощью Python              Э. Свейгарт   \n",
       "\n",
       "                                           placement               price  \n",
       "0  Расположение в торговом зале: Уровень 1, зал №...  Цена: 2469,00 руб.  \n",
       "1  Расположение в торговом зале: Уровень 1, зал №...  Цена: 2769,00 руб.  \n",
       "2  Расположение в торговом зале: Уровень 1, зал №...  Цена: 2769,00 руб.  \n",
       "3  Расположение в торговом зале: Уровень 1, зал №...  Цена: 2769,00 руб.  \n",
       "4  Расположение в торговом зале: Уровень 1, зал №...  Цена: 1659,00 руб.  "
      ]
     },
     "execution_count": 140,
     "metadata": {},
     "output_type": "execute_result"
    }
   ],
   "source": [
    "df.head()"
   ]
  },
  {
   "cell_type": "markdown",
   "metadata": {},
   "source": [
    "Давайте приведем столбец с ценой к числовому типу. Уберем слова *Цена* и *руб*, а потом сконвертируем строки в числа с плавающей точкой. Напишем функцию `get_price()`,"
   ]
  },
  {
   "cell_type": "code",
   "execution_count": 141,
   "metadata": {},
   "outputs": [],
   "source": [
    "def get_price(price):\n",
    "    book_price = price.split(' ')[1]  # разобьем строку по пробелу и возьмем второй элемент\n",
    "    book_price = book_price.replace(',', '.')  # заменим запятую на точку\n",
    "    price_num = float(book_price)  # сконвертируем в float\n",
    "    return price_num"
   ]
  },
  {
   "cell_type": "code",
   "execution_count": 142,
   "metadata": {},
   "outputs": [
    {
     "data": {
      "text/plain": [
       "2469.0"
      ]
     },
     "execution_count": 142,
     "metadata": {},
     "output_type": "execute_result"
    }
   ],
   "source": [
    "# проверка\n",
    "get_price(df.price[0])"
   ]
  },
  {
   "cell_type": "markdown",
   "metadata": {},
   "source": [
    "Всё отлично работает! Применим функцию к столбцу *price* и создадим новый столбец *nprice*."
   ]
  },
  {
   "cell_type": "code",
   "execution_count": 143,
   "metadata": {},
   "outputs": [],
   "source": [
    "df['nprice'] = df.price.apply(get_price)"
   ]
  },
  {
   "cell_type": "code",
   "execution_count": 144,
   "metadata": {},
   "outputs": [
    {
     "data": {
      "text/html": [
       "<div>\n",
       "<style scoped>\n",
       "    .dataframe tbody tr th:only-of-type {\n",
       "        vertical-align: middle;\n",
       "    }\n",
       "\n",
       "    .dataframe tbody tr th {\n",
       "        vertical-align: top;\n",
       "    }\n",
       "\n",
       "    .dataframe thead th {\n",
       "        text-align: right;\n",
       "    }\n",
       "</style>\n",
       "<table border=\"1\" class=\"dataframe\">\n",
       "  <thead>\n",
       "    <tr style=\"text-align: right;\">\n",
       "      <th></th>\n",
       "      <th>book</th>\n",
       "      <th>author</th>\n",
       "      <th>placement</th>\n",
       "      <th>price</th>\n",
       "      <th>nprice</th>\n",
       "    </tr>\n",
       "  </thead>\n",
       "  <tbody>\n",
       "    <tr>\n",
       "      <th>0</th>\n",
       "      <td>Генетические алгоритмы на Python</td>\n",
       "      <td>Вирсански</td>\n",
       "      <td>Расположение в торговом зале: Уровень 1, зал №...</td>\n",
       "      <td>Цена: 2469,00 руб.</td>\n",
       "      <td>2469.0</td>\n",
       "    </tr>\n",
       "    <tr>\n",
       "      <th>1</th>\n",
       "      <td>Изучаем Python, том 1</td>\n",
       "      <td>М.  Лутц</td>\n",
       "      <td>Расположение в торговом зале: Уровень 1, зал №...</td>\n",
       "      <td>Цена: 2769,00 руб.</td>\n",
       "      <td>2769.0</td>\n",
       "    </tr>\n",
       "    <tr>\n",
       "      <th>2</th>\n",
       "      <td>Python и машинное обучение: машинное и глубоко...</td>\n",
       "      <td>С. Рашка, В. Мирджалили</td>\n",
       "      <td>Расположение в торговом зале: Уровень 1, зал №...</td>\n",
       "      <td>Цена: 2769,00 руб.</td>\n",
       "      <td>2769.0</td>\n",
       "    </tr>\n",
       "    <tr>\n",
       "      <th>3</th>\n",
       "      <td>Введение в машинное обучение с помощью Python</td>\n",
       "      <td>А. Мюллер, С. Гвидо</td>\n",
       "      <td>Расположение в торговом зале: Уровень 1, зал №...</td>\n",
       "      <td>Цена: 2769,00 руб.</td>\n",
       "      <td>2769.0</td>\n",
       "    </tr>\n",
       "    <tr>\n",
       "      <th>4</th>\n",
       "      <td>Автоматизация рутинных задач с помощью Python</td>\n",
       "      <td>Э. Свейгарт</td>\n",
       "      <td>Расположение в торговом зале: Уровень 1, зал №...</td>\n",
       "      <td>Цена: 1659,00 руб.</td>\n",
       "      <td>1659.0</td>\n",
       "    </tr>\n",
       "  </tbody>\n",
       "</table>\n",
       "</div>"
      ],
      "text/plain": [
       "                                                book                   author  \\\n",
       "0                   Генетические алгоритмы на Python                Вирсански   \n",
       "1                              Изучаем Python, том 1                 М.  Лутц   \n",
       "2  Python и машинное обучение: машинное и глубоко...  С. Рашка, В. Мирджалили   \n",
       "3      Введение в машинное обучение с помощью Python      А. Мюллер, С. Гвидо   \n",
       "4      Автоматизация рутинных задач с помощью Python              Э. Свейгарт   \n",
       "\n",
       "                                           placement               price  \\\n",
       "0  Расположение в торговом зале: Уровень 1, зал №...  Цена: 2469,00 руб.   \n",
       "1  Расположение в торговом зале: Уровень 1, зал №...  Цена: 2769,00 руб.   \n",
       "2  Расположение в торговом зале: Уровень 1, зал №...  Цена: 2769,00 руб.   \n",
       "3  Расположение в торговом зале: Уровень 1, зал №...  Цена: 2769,00 руб.   \n",
       "4  Расположение в торговом зале: Уровень 1, зал №...  Цена: 1659,00 руб.   \n",
       "\n",
       "   nprice  \n",
       "0  2469.0  \n",
       "1  2769.0  \n",
       "2  2769.0  \n",
       "3  2769.0  \n",
       "4  1659.0  "
      ]
     },
     "execution_count": 144,
     "metadata": {},
     "output_type": "execute_result"
    }
   ],
   "source": [
    "df.head()"
   ]
  },
  {
   "cell_type": "markdown",
   "metadata": {},
   "source": [
    "Теперь можем расположить книги по цене в порядке возрастания:"
   ]
  },
  {
   "cell_type": "code",
   "execution_count": 145,
   "metadata": {},
   "outputs": [
    {
     "data": {
      "text/html": [
       "<div>\n",
       "<style scoped>\n",
       "    .dataframe tbody tr th:only-of-type {\n",
       "        vertical-align: middle;\n",
       "    }\n",
       "\n",
       "    .dataframe tbody tr th {\n",
       "        vertical-align: top;\n",
       "    }\n",
       "\n",
       "    .dataframe thead th {\n",
       "        text-align: right;\n",
       "    }\n",
       "</style>\n",
       "<table border=\"1\" class=\"dataframe\">\n",
       "  <thead>\n",
       "    <tr style=\"text-align: right;\">\n",
       "      <th></th>\n",
       "      <th>book</th>\n",
       "      <th>author</th>\n",
       "      <th>placement</th>\n",
       "      <th>price</th>\n",
       "      <th>nprice</th>\n",
       "    </tr>\n",
       "  </thead>\n",
       "  <tbody>\n",
       "    <tr>\n",
       "      <th>33</th>\n",
       "      <td>Математика на Python. Часть I. Элементы линейн...</td>\n",
       "      <td>А. С. Балджы, М. Б. Хрипунова, И. А. Александрова</td>\n",
       "      <td>Расположение в торговом зале: Уровень 1, зал №...</td>\n",
       "      <td>Цена: 299,00 руб.</td>\n",
       "      <td>299.0</td>\n",
       "    </tr>\n",
       "    <tr>\n",
       "      <th>72</th>\n",
       "      <td>Практикум по математической статистике. Провер...</td>\n",
       "      <td>В. И. Глебов, С. Я. Криволапов</td>\n",
       "      <td>Расположение в торговом зале: Уровень 1, зал №...</td>\n",
       "      <td>Цена: 299,00 руб.</td>\n",
       "      <td>299.0</td>\n",
       "    </tr>\n",
       "    <tr>\n",
       "      <th>65</th>\n",
       "      <td>Портфель пластиковый ErichKrause® Purple Pytho...</td>\n",
       "      <td></td>\n",
       "      <td>Расположение в торговом зале: Уровень 1, зал №...</td>\n",
       "      <td>Цена: 409,00 руб.</td>\n",
       "      <td>409.0</td>\n",
       "    </tr>\n",
       "    <tr>\n",
       "      <th>20</th>\n",
       "      <td>Сумка-шоппер ErichKrause® 10L Python Print</td>\n",
       "      <td></td>\n",
       "      <td>Расположение в торговом зале: Уровень 1, зал №...</td>\n",
       "      <td>Цена: 419,00 руб.</td>\n",
       "      <td>419.0</td>\n",
       "    </tr>\n",
       "    <tr>\n",
       "      <th>7</th>\n",
       "      <td>Сумка-шоппер ErichKrause® 10L Purple Python</td>\n",
       "      <td></td>\n",
       "      <td>Расположение в торговом зале: Уровень 1, зал №...</td>\n",
       "      <td>Цена: 419,00 руб.</td>\n",
       "      <td>419.0</td>\n",
       "    </tr>\n",
       "    <tr>\n",
       "      <th>...</th>\n",
       "      <td>...</td>\n",
       "      <td>...</td>\n",
       "      <td>...</td>\n",
       "      <td>...</td>\n",
       "      <td>...</td>\n",
       "    </tr>\n",
       "    <tr>\n",
       "      <th>66</th>\n",
       "      <td>PYTHON И АНАЛИЗ ДАННЫХ. ВТОРОЕ ИЗДАНИЕ</td>\n",
       "      <td>Маккинни</td>\n",
       "      <td>Расположение в торговом зале: Уровень 1, зал №...</td>\n",
       "      <td>Цена: 3209,00 руб.</td>\n",
       "      <td>3209.0</td>\n",
       "    </tr>\n",
       "    <tr>\n",
       "      <th>9</th>\n",
       "      <td>Стандартная библиотека Python 3</td>\n",
       "      <td>Д. Хеллман</td>\n",
       "      <td>Расположение в торговом зале: Уровень 1, зал №...</td>\n",
       "      <td>Цена: 3319,00 руб.</td>\n",
       "      <td>3319.0</td>\n",
       "    </tr>\n",
       "    <tr>\n",
       "      <th>81</th>\n",
       "      <td>Прогнозное моделирование в IBM SPSS Statistics...</td>\n",
       "      <td>А. В. Груздев</td>\n",
       "      <td></td>\n",
       "      <td>Цена: 3599,00 руб.</td>\n",
       "      <td>3599.0</td>\n",
       "    </tr>\n",
       "    <tr>\n",
       "      <th>77</th>\n",
       "      <td>Python. Разработка на основе тестирования</td>\n",
       "      <td>Г. Персиваль</td>\n",
       "      <td>Расположение в торговом зале: Уровень 1, зал №...</td>\n",
       "      <td>Цена: 3709,00 руб.</td>\n",
       "      <td>3709.0</td>\n",
       "    </tr>\n",
       "    <tr>\n",
       "      <th>67</th>\n",
       "      <td>Python. Книга Рецептов</td>\n",
       "      <td>Д. Бизли, Б. К. Джонс</td>\n",
       "      <td>Расположение в торговом зале: Уровень 1, зал №...</td>\n",
       "      <td>Цена: 3709,00 руб.</td>\n",
       "      <td>3709.0</td>\n",
       "    </tr>\n",
       "  </tbody>\n",
       "</table>\n",
       "<p>85 rows × 5 columns</p>\n",
       "</div>"
      ],
      "text/plain": [
       "                                                 book  \\\n",
       "33  Математика на Python. Часть I. Элементы линейн...   \n",
       "72  Практикум по математической статистике. Провер...   \n",
       "65  Портфель пластиковый ErichKrause® Purple Pytho...   \n",
       "20         Сумка-шоппер ErichKrause® 10L Python Print   \n",
       "7         Сумка-шоппер ErichKrause® 10L Purple Python   \n",
       "..                                                ...   \n",
       "66             PYTHON И АНАЛИЗ ДАННЫХ. ВТОРОЕ ИЗДАНИЕ   \n",
       "9                     Стандартная библиотека Python 3   \n",
       "81  Прогнозное моделирование в IBM SPSS Statistics...   \n",
       "77          Python. Разработка на основе тестирования   \n",
       "67                             Python. Книга Рецептов   \n",
       "\n",
       "                                               author  \\\n",
       "33  А. С. Балджы, М. Б. Хрипунова, И. А. Александрова   \n",
       "72                     В. И. Глебов, С. Я. Криволапов   \n",
       "65                                                      \n",
       "20                                                      \n",
       "7                                                       \n",
       "..                                                ...   \n",
       "66                                           Маккинни   \n",
       "9                                          Д. Хеллман   \n",
       "81                                      А. В. Груздев   \n",
       "77                                       Г. Персиваль   \n",
       "67                              Д. Бизли, Б. К. Джонс   \n",
       "\n",
       "                                            placement               price  \\\n",
       "33  Расположение в торговом зале: Уровень 1, зал №...   Цена: 299,00 руб.   \n",
       "72  Расположение в торговом зале: Уровень 1, зал №...   Цена: 299,00 руб.   \n",
       "65  Расположение в торговом зале: Уровень 1, зал №...   Цена: 409,00 руб.   \n",
       "20  Расположение в торговом зале: Уровень 1, зал №...   Цена: 419,00 руб.   \n",
       "7   Расположение в торговом зале: Уровень 1, зал №...   Цена: 419,00 руб.   \n",
       "..                                                ...                 ...   \n",
       "66  Расположение в торговом зале: Уровень 1, зал №...  Цена: 3209,00 руб.   \n",
       "9   Расположение в торговом зале: Уровень 1, зал №...  Цена: 3319,00 руб.   \n",
       "81                                                     Цена: 3599,00 руб.   \n",
       "77  Расположение в торговом зале: Уровень 1, зал №...  Цена: 3709,00 руб.   \n",
       "67  Расположение в торговом зале: Уровень 1, зал №...  Цена: 3709,00 руб.   \n",
       "\n",
       "    nprice  \n",
       "33   299.0  \n",
       "72   299.0  \n",
       "65   409.0  \n",
       "20   419.0  \n",
       "7    419.0  \n",
       "..     ...  \n",
       "66  3209.0  \n",
       "9   3319.0  \n",
       "81  3599.0  \n",
       "77  3709.0  \n",
       "67  3709.0  \n",
       "\n",
       "[85 rows x 5 columns]"
      ]
     },
     "execution_count": 145,
     "metadata": {},
     "output_type": "execute_result"
    }
   ],
   "source": [
    "df.sort_values('nprice')"
   ]
  },
  {
   "cell_type": "markdown",
   "metadata": {},
   "source": [
    "И сохраним всю таблицу в csv-файл:"
   ]
  },
  {
   "cell_type": "code",
   "execution_count": 146,
   "metadata": {},
   "outputs": [],
   "source": [
    "df.to_csv(\"books.csv\")"
   ]
  },
  {
   "cell_type": "code",
   "execution_count": null,
   "metadata": {},
   "outputs": [],
   "source": []
  }
 ],
 "metadata": {
  "kernelspec": {
   "display_name": "Python 3",
   "language": "python",
   "name": "python3"
  },
  "language_info": {
   "codemirror_mode": {
    "name": "ipython",
    "version": 3
   },
   "file_extension": ".py",
   "mimetype": "text/x-python",
   "name": "python",
   "nbconvert_exporter": "python",
   "pygments_lexer": "ipython3",
   "version": "3.8.3"
  }
 },
 "nbformat": 4,
 "nbformat_minor": 4
}
