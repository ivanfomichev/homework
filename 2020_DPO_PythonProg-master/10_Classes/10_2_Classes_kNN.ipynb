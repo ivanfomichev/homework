{
 "cells": [
  {
   "cell_type": "markdown",
   "metadata": {},
   "source": [
    "Центр непрерывного образования\n",
    "\n",
    "# Программа «Python для автоматизации и анализа данных»\n",
    "## Реализация класса kNN\n",
    "\n",
    "*Автор: Татьяна Рогович, НИУ ВШЭ*"
   ]
  },
  {
   "cell_type": "markdown",
   "metadata": {},
   "source": [
    "# Метод k-ближайших соседей (kNN)\n",
    "\n",
    "Давайте перейдем к более прикладным задачам и сначала познакомимся с методом k-ближайщих соседей. Потом его реализуем в виде класса.\n",
    "\n",
    "`kNN` расшифровывается как `k Nearest Neighbor` или `k Ближайших Соседей` — это один из самых простых алгоритмов классификации, также иногда используемый в задачах регрессии. Задача классификации в машинном обучении — это задача отнесения объекта к одному из заранее определенных классов на основании его формализованных признаков. Каждый из объектов в этой задаче представляется в виде вектора в N-мерном пространстве, каждое измерение в котором представляет собой описание одного из признаков объекта. Допустим нам нужно классифицировать мониторы: измерениями в нашем пространстве параметров будут величина диагонали в дюймах, соотношение сторон, максимальное разрешение, наличие HDMI-интерфейса, стоимость и др. \n",
    "\n",
    "\n",
    "## Теория\n",
    "\n",
    "Идея за алгоритмом kNN довольно простая. Он просто считает расстояние от новой точки, до всех известных обучающих точек. Расстояние может быть найдено разными способами. Далее выбирает к-ближайщих точек, где к - целое число. И в конце, на основе классов, к которому принадлежит большинство отобранных точек, присваивает класс новой точке.\n",
    "\n",
    "Давайте посмотрим на работу алгоритма на основе простого примера. Допустим у нас есть датасет по двум переменным, который изображен на рисунке ниже.\n",
    "\n",
    "![image.png](1.png)\n",
    "\n",
    "Нашей задачей будет классифицировать новую точку 'X' в один из классов: `Фиолетовый` или `Красный`. Координаты нашей точки будет равны: x = 45 и y = 50. Пусть количество соседей (K) равно `3`. Алгоритм КНН посчитает расстояния от точки Х до всех остальных точек. Затем он находит, ближайщие по расстоянию до точки Х, точки. Они показаны на рисунке ниже. Три ближайшие точки находятся внутри круга.\n",
    "\n",
    "![image.png](2.png)\n",
    "\n",
    "Последний шагом алгоритма будет присвоить новой точке класс большинства ближайшех точек вокруг. На изображении выше, видно что два из трех ближайщех точек принадлежат классу `Красные` и одна тчока принадлежит классу `Фиолетовые`. Поэтому новая точка будет классифицирована как `Красный`."
   ]
  },
  {
   "cell_type": "markdown",
   "metadata": {},
   "source": [
    "## Датасет\n",
    "\n",
    "В качестве датасет мы будем использовать знаменитый датасет `iris`. Датасет состоит из четырех аттрибутов: `sepal-width`, `sepal-length`, `petal-width` и `petal-length`. Это аттрибуты конкретных типов расстения ирис. Задачей является предсказать к какому типу ириса относится конкретное расстение. Есть три класса в нашем датасете: `Iris-setosa`, `Iris-versicolor` и `Iris-virginica`.\n",
    "\n",
    "Каждое расстение имеет уникальные признаки: `sepal length` (длина чашелистика), `sepal width` (ширина чашелистика), `petal length` (длина лепестка) и `petal width` (ширина лепестка). \n",
    "\n",
    "Давайте посмотрим на данные в pandas, но работать для реализации классов будем со списками."
   ]
  },
  {
   "cell_type": "code",
   "execution_count": 1,
   "metadata": {},
   "outputs": [
    {
     "data": {
      "text/html": [
       "<div>\n",
       "<style scoped>\n",
       "    .dataframe tbody tr th:only-of-type {\n",
       "        vertical-align: middle;\n",
       "    }\n",
       "\n",
       "    .dataframe tbody tr th {\n",
       "        vertical-align: top;\n",
       "    }\n",
       "\n",
       "    .dataframe thead th {\n",
       "        text-align: right;\n",
       "    }\n",
       "</style>\n",
       "<table border=\"1\" class=\"dataframe\">\n",
       "  <thead>\n",
       "    <tr style=\"text-align: right;\">\n",
       "      <th></th>\n",
       "      <th>sepal-length</th>\n",
       "      <th>sepal-width</th>\n",
       "      <th>petal-length</th>\n",
       "      <th>petal-width</th>\n",
       "      <th>Class</th>\n",
       "    </tr>\n",
       "  </thead>\n",
       "  <tbody>\n",
       "    <tr>\n",
       "      <th>0</th>\n",
       "      <td>5.1</td>\n",
       "      <td>3.5</td>\n",
       "      <td>1.4</td>\n",
       "      <td>0.2</td>\n",
       "      <td>Iris-setosa</td>\n",
       "    </tr>\n",
       "    <tr>\n",
       "      <th>1</th>\n",
       "      <td>4.9</td>\n",
       "      <td>3.0</td>\n",
       "      <td>1.4</td>\n",
       "      <td>0.2</td>\n",
       "      <td>Iris-setosa</td>\n",
       "    </tr>\n",
       "    <tr>\n",
       "      <th>2</th>\n",
       "      <td>4.7</td>\n",
       "      <td>3.2</td>\n",
       "      <td>1.3</td>\n",
       "      <td>0.2</td>\n",
       "      <td>Iris-setosa</td>\n",
       "    </tr>\n",
       "    <tr>\n",
       "      <th>3</th>\n",
       "      <td>4.6</td>\n",
       "      <td>3.1</td>\n",
       "      <td>1.5</td>\n",
       "      <td>0.2</td>\n",
       "      <td>Iris-setosa</td>\n",
       "    </tr>\n",
       "    <tr>\n",
       "      <th>4</th>\n",
       "      <td>5.0</td>\n",
       "      <td>3.6</td>\n",
       "      <td>1.4</td>\n",
       "      <td>0.2</td>\n",
       "      <td>Iris-setosa</td>\n",
       "    </tr>\n",
       "    <tr>\n",
       "      <th>...</th>\n",
       "      <td>...</td>\n",
       "      <td>...</td>\n",
       "      <td>...</td>\n",
       "      <td>...</td>\n",
       "      <td>...</td>\n",
       "    </tr>\n",
       "    <tr>\n",
       "      <th>145</th>\n",
       "      <td>6.7</td>\n",
       "      <td>3.0</td>\n",
       "      <td>5.2</td>\n",
       "      <td>2.3</td>\n",
       "      <td>Iris-virginica</td>\n",
       "    </tr>\n",
       "    <tr>\n",
       "      <th>146</th>\n",
       "      <td>6.3</td>\n",
       "      <td>2.5</td>\n",
       "      <td>5.0</td>\n",
       "      <td>1.9</td>\n",
       "      <td>Iris-virginica</td>\n",
       "    </tr>\n",
       "    <tr>\n",
       "      <th>147</th>\n",
       "      <td>6.5</td>\n",
       "      <td>3.0</td>\n",
       "      <td>5.2</td>\n",
       "      <td>2.0</td>\n",
       "      <td>Iris-virginica</td>\n",
       "    </tr>\n",
       "    <tr>\n",
       "      <th>148</th>\n",
       "      <td>6.2</td>\n",
       "      <td>3.4</td>\n",
       "      <td>5.4</td>\n",
       "      <td>2.3</td>\n",
       "      <td>Iris-virginica</td>\n",
       "    </tr>\n",
       "    <tr>\n",
       "      <th>149</th>\n",
       "      <td>5.9</td>\n",
       "      <td>3.0</td>\n",
       "      <td>5.1</td>\n",
       "      <td>1.8</td>\n",
       "      <td>Iris-virginica</td>\n",
       "    </tr>\n",
       "  </tbody>\n",
       "</table>\n",
       "<p>150 rows × 5 columns</p>\n",
       "</div>"
      ],
      "text/plain": [
       "     sepal-length  sepal-width  petal-length  petal-width           Class\n",
       "0             5.1          3.5           1.4          0.2     Iris-setosa\n",
       "1             4.9          3.0           1.4          0.2     Iris-setosa\n",
       "2             4.7          3.2           1.3          0.2     Iris-setosa\n",
       "3             4.6          3.1           1.5          0.2     Iris-setosa\n",
       "4             5.0          3.6           1.4          0.2     Iris-setosa\n",
       "..            ...          ...           ...          ...             ...\n",
       "145           6.7          3.0           5.2          2.3  Iris-virginica\n",
       "146           6.3          2.5           5.0          1.9  Iris-virginica\n",
       "147           6.5          3.0           5.2          2.0  Iris-virginica\n",
       "148           6.2          3.4           5.4          2.3  Iris-virginica\n",
       "149           5.9          3.0           5.1          1.8  Iris-virginica\n",
       "\n",
       "[150 rows x 5 columns]"
      ]
     },
     "execution_count": 1,
     "metadata": {},
     "output_type": "execute_result"
    }
   ],
   "source": [
    "import pandas as pd\n",
    "\n",
    "url = \"https://archive.ics.uci.edu/ml/machine-learning-databases/iris/iris.data\"\n",
    "\n",
    "# Назовем колонки датасета\n",
    "names = ['sepal-length', 'sepal-width', 'petal-length', 'petal-width', 'Class']\n",
    "\n",
    "# создадим датасет\n",
    "dataset = pd.read_csv(url, names=names)\n",
    "dataset"
   ]
  },
  {
   "cell_type": "markdown",
   "metadata": {},
   "source": [
    "Будем работать с двумя первыми колонками (sepal), а предсказывать будем тип ириса. Также мы разбили данные на две части - будем считать, что для подвыборки test мы не знаем, какие это ирисы (на самом деле знаем и потом проверим, как сработал наш алгоритм), и будем на основе двух признаков высчитывать расстояние от них до тех ирисов, метки которых нам известны (train)."
   ]
  },
  {
   "cell_type": "code",
   "execution_count": 2,
   "metadata": {},
   "outputs": [],
   "source": [
    "X = [[5.1, 3.5],\n",
    "       [4.9, 3. ],\n",
    "       [4.7, 3.2],\n",
    "       [4.6, 3.1],\n",
    "       [5. , 3.6],\n",
    "       [5.4, 3.9],\n",
    "       [4.6, 3.4],\n",
    "       [5. , 3.4],\n",
    "       [4.4, 2.9],\n",
    "       [4.9, 3.1],\n",
    "       [5.4, 3.7],\n",
    "       [4.8, 3.4],\n",
    "       [4.8, 3. ],\n",
    "       [4.3, 3. ],\n",
    "       [5.8, 4. ],\n",
    "       [5.7, 4.4],\n",
    "       [5.4, 3.9],\n",
    "       [5.1, 3.5],\n",
    "       [5.7, 3.8],\n",
    "       [5.1, 3.8],\n",
    "       [5.4, 3.4],\n",
    "       [5.1, 3.7],\n",
    "       [4.6, 3.6],\n",
    "       [5.1, 3.3],\n",
    "       [4.8, 3.4],\n",
    "       [5. , 3. ],\n",
    "       [5. , 3.4],\n",
    "       [5.2, 3.5],\n",
    "       [5.2, 3.4],\n",
    "       [4.7, 3.2],\n",
    "       [4.8, 3.1],\n",
    "       [5.4, 3.4],\n",
    "       [5.2, 4.1],\n",
    "       [5.5, 4.2],\n",
    "       [4.9, 3.1],\n",
    "       [5. , 3.2],\n",
    "       [5.5, 3.5],\n",
    "       [4.9, 3.1],\n",
    "       [4.4, 3. ],\n",
    "       [5.1, 3.4],\n",
    "       [5. , 3.5],\n",
    "       [4.5, 2.3],\n",
    "       [4.4, 3.2],\n",
    "       [5. , 3.5],\n",
    "       [5.1, 3.8],\n",
    "       [4.8, 3. ],\n",
    "       [5.1, 3.8],\n",
    "       [4.6, 3.2],\n",
    "       [5.3, 3.7],\n",
    "       [5. , 3.3],\n",
    "       [7. , 3.2],\n",
    "       [6.4, 3.2],\n",
    "       [6.9, 3.1],\n",
    "       [5.5, 2.3],\n",
    "       [6.5, 2.8],\n",
    "       [5.7, 2.8],\n",
    "       [6.3, 3.3],\n",
    "       [4.9, 2.4],\n",
    "       [6.6, 2.9],\n",
    "       [5.2, 2.7],\n",
    "       [5. , 2. ],\n",
    "       [5.9, 3. ],\n",
    "       [6. , 2.2],\n",
    "       [6.1, 2.9],\n",
    "       [5.6, 2.9],\n",
    "       [6.7, 3.1],\n",
    "       [5.6, 3. ],\n",
    "       [5.8, 2.7],\n",
    "       [6.2, 2.2],\n",
    "       [5.6, 2.5],\n",
    "       [5.9, 3.2],\n",
    "       [6.1, 2.8],\n",
    "       [6.3, 2.5],\n",
    "       [6.1, 2.8],\n",
    "       [6.4, 2.9],\n",
    "       [6.6, 3. ],\n",
    "       [6.8, 2.8],\n",
    "       [6.7, 3. ],\n",
    "       [6. , 2.9],\n",
    "       [5.7, 2.6],\n",
    "       [5.5, 2.4],\n",
    "       [5.5, 2.4],\n",
    "       [5.8, 2.7],\n",
    "       [6. , 2.7],\n",
    "       [5.4, 3. ],\n",
    "       [6. , 3.4],\n",
    "       [6.7, 3.1],\n",
    "       [6.3, 2.3],\n",
    "       [5.6, 3. ],\n",
    "       [5.5, 2.5],\n",
    "       [5.5, 2.6],\n",
    "       [6.1, 3. ],\n",
    "       [5.8, 2.6],\n",
    "       [5. , 2.3],\n",
    "       [5.6, 2.7],\n",
    "       [5.7, 3. ],\n",
    "       [5.7, 2.9],\n",
    "       [6.2, 2.9],\n",
    "       [5.1, 2.5],\n",
    "       [5.7, 2.8],\n",
    "       [6.3, 3.3],\n",
    "       [5.8, 2.7],\n",
    "       [7.1, 3. ],\n",
    "       [6.3, 2.9],\n",
    "       [6.5, 3. ],\n",
    "       [7.6, 3. ],\n",
    "       [4.9, 2.5],\n",
    "       [7.3, 2.9],\n",
    "       [6.7, 2.5],\n",
    "       [7.2, 3.6],\n",
    "       [6.5, 3.2],\n",
    "       [6.4, 2.7],\n",
    "       [6.8, 3. ],\n",
    "       [5.7, 2.5],\n",
    "       [5.8, 2.8],\n",
    "       [6.4, 3.2],\n",
    "       [6.5, 3. ],\n",
    "       [7.7, 3.8],\n",
    "       [7.7, 2.6],\n",
    "       [6. , 2.2],\n",
    "       [6.9, 3.2],\n",
    "       [5.6, 2.8],\n",
    "       [7.7, 2.8],\n",
    "       [6.3, 2.7],\n",
    "       [6.7, 3.3],\n",
    "       [7.2, 3.2],\n",
    "       [6.2, 2.8],\n",
    "       [6.1, 3. ],\n",
    "       [6.4, 2.8],\n",
    "       [7.2, 3. ],\n",
    "       [7.4, 2.8],\n",
    "       [7.9, 3.8],\n",
    "       [6.4, 2.8],\n",
    "       [6.3, 2.8],\n",
    "       [6.1, 2.6],\n",
    "       [7.7, 3. ],\n",
    "       [6.3, 3.4],\n",
    "       [6.4, 3.1],\n",
    "       [6. , 3. ],\n",
    "       [6.9, 3.1],\n",
    "       [6.7, 3.1],\n",
    "       [6.9, 3.1],\n",
    "       [5.8, 2.7],\n",
    "       [6.8, 3.2],\n",
    "       [6.7, 3.3],\n",
    "       [6.7, 3. ],\n",
    "       [6.3, 2.5],\n",
    "       [6.5, 3. ],\n",
    "       [6.2, 3.4],\n",
    "       [5.9, 3. ]]"
   ]
  },
  {
   "cell_type": "code",
   "execution_count": 3,
   "metadata": {},
   "outputs": [],
   "source": [
    "y = ['Iris-setosa', 'Iris-setosa', 'Iris-setosa', 'Iris-setosa',\n",
    "       'Iris-setosa', 'Iris-setosa', 'Iris-setosa', 'Iris-setosa',\n",
    "       'Iris-setosa', 'Iris-setosa', 'Iris-setosa', 'Iris-setosa',\n",
    "       'Iris-setosa', 'Iris-setosa', 'Iris-setosa', 'Iris-setosa',\n",
    "       'Iris-setosa', 'Iris-setosa', 'Iris-setosa', 'Iris-setosa',\n",
    "       'Iris-setosa', 'Iris-setosa', 'Iris-setosa', 'Iris-setosa',\n",
    "       'Iris-setosa', 'Iris-setosa', 'Iris-setosa', 'Iris-setosa',\n",
    "       'Iris-setosa', 'Iris-setosa', 'Iris-setosa', 'Iris-setosa',\n",
    "       'Iris-setosa', 'Iris-setosa', 'Iris-setosa', 'Iris-setosa',\n",
    "       'Iris-setosa', 'Iris-setosa', 'Iris-setosa', 'Iris-setosa',\n",
    "       'Iris-setosa', 'Iris-setosa', 'Iris-setosa', 'Iris-setosa',\n",
    "       'Iris-setosa', 'Iris-setosa', 'Iris-setosa', 'Iris-setosa',\n",
    "       'Iris-setosa', 'Iris-setosa', 'Iris-versicolor', 'Iris-versicolor',\n",
    "       'Iris-versicolor', 'Iris-versicolor', 'Iris-versicolor',\n",
    "       'Iris-versicolor', 'Iris-versicolor', 'Iris-versicolor',\n",
    "       'Iris-versicolor', 'Iris-versicolor', 'Iris-versicolor',\n",
    "       'Iris-versicolor', 'Iris-versicolor', 'Iris-versicolor',\n",
    "       'Iris-versicolor', 'Iris-versicolor', 'Iris-versicolor',\n",
    "       'Iris-versicolor', 'Iris-versicolor', 'Iris-versicolor',\n",
    "       'Iris-versicolor', 'Iris-versicolor', 'Iris-versicolor',\n",
    "       'Iris-versicolor', 'Iris-versicolor', 'Iris-versicolor',\n",
    "       'Iris-versicolor', 'Iris-versicolor', 'Iris-versicolor',\n",
    "       'Iris-versicolor', 'Iris-versicolor', 'Iris-versicolor',\n",
    "       'Iris-versicolor', 'Iris-versicolor', 'Iris-versicolor',\n",
    "       'Iris-versicolor', 'Iris-versicolor', 'Iris-versicolor',\n",
    "       'Iris-versicolor', 'Iris-versicolor', 'Iris-versicolor',\n",
    "       'Iris-versicolor', 'Iris-versicolor', 'Iris-versicolor',\n",
    "       'Iris-versicolor', 'Iris-versicolor', 'Iris-versicolor',\n",
    "       'Iris-versicolor', 'Iris-versicolor', 'Iris-versicolor',\n",
    "       'Iris-virginica', 'Iris-virginica', 'Iris-virginica',\n",
    "       'Iris-virginica', 'Iris-virginica', 'Iris-virginica',\n",
    "       'Iris-virginica', 'Iris-virginica', 'Iris-virginica',\n",
    "       'Iris-virginica', 'Iris-virginica', 'Iris-virginica',\n",
    "       'Iris-virginica', 'Iris-virginica', 'Iris-virginica',\n",
    "       'Iris-virginica', 'Iris-virginica', 'Iris-virginica',\n",
    "       'Iris-virginica', 'Iris-virginica', 'Iris-virginica',\n",
    "       'Iris-virginica', 'Iris-virginica', 'Iris-virginica',\n",
    "       'Iris-virginica', 'Iris-virginica', 'Iris-virginica',\n",
    "       'Iris-virginica', 'Iris-virginica', 'Iris-virginica',\n",
    "       'Iris-virginica', 'Iris-virginica', 'Iris-virginica',\n",
    "       'Iris-virginica', 'Iris-virginica', 'Iris-virginica',\n",
    "       'Iris-virginica', 'Iris-virginica', 'Iris-virginica',\n",
    "       'Iris-virginica', 'Iris-virginica', 'Iris-virginica',\n",
    "       'Iris-virginica', 'Iris-virginica', 'Iris-virginica',\n",
    "       'Iris-virginica', 'Iris-virginica', 'Iris-virginica',\n",
    "       'Iris-virginica', 'Iris-virginica']"
   ]
  },
  {
   "cell_type": "markdown",
   "metadata": {},
   "source": [
    "Давайте посмотрим на визуализацию наших данных."
   ]
  },
  {
   "cell_type": "code",
   "execution_count": 4,
   "metadata": {},
   "outputs": [
    {
     "data": {
      "image/png": "[encoded data removed]",
      "text/plain": [
       "<Figure size 432x288 with 1 Axes>"
      ]
     },
     "metadata": {
      "needs_background": "light"
     },
     "output_type": "display_data"
    }
   ],
   "source": [
    "import matplotlib.pyplot as plt\n",
    "%matplotlib inline\n",
    "\n",
    "plt.figure()\n",
    "plt.scatter([item[0] for item in X], [item[1] for item in X])\n",
    "plt.title(\"Iris Sepal-length vs Sepal-width\")\n",
    "plt.show()"
   ]
  },
  {
   "cell_type": "markdown",
   "metadata": {},
   "source": [
    "Это наши данные полностью, а теперь давайте разобьем их на тестовую и тренировочную выборку с помощью специальной фукнции. "
   ]
  },
  {
   "cell_type": "code",
   "execution_count": 5,
   "metadata": {},
   "outputs": [],
   "source": [
    "from sklearn.model_selection import train_test_split\n",
    "\n",
    "X_train, X_test, y_train, y_test = train_test_split(X, y, test_size=0.2, random_state=42)"
   ]
  },
  {
   "cell_type": "markdown",
   "metadata": {},
   "source": [
    "Мы использовали функцию `train_test_split` из модуля `sklearn`. Код выше разделил датасет на 80% обучающих данных и 20% тестовых данных. Это означает что из 150 записей, обучающая выборка будет состоять из примерно 120 элементов, а тестовая из 30."
   ]
  },
  {
   "cell_type": "code",
   "execution_count": 6,
   "metadata": {},
   "outputs": [
    {
     "data": {
      "text/plain": [
       "(120, 120)"
      ]
     },
     "execution_count": 6,
     "metadata": {},
     "output_type": "execute_result"
    }
   ],
   "source": [
    "len(X_train), len(y_train) # 120 наблюдений в основной выборке"
   ]
  },
  {
   "cell_type": "code",
   "execution_count": 7,
   "metadata": {},
   "outputs": [
    {
     "data": {
      "text/plain": [
       "(30, 30)"
      ]
     },
     "execution_count": 7,
     "metadata": {},
     "output_type": "execute_result"
    }
   ],
   "source": [
    "len(X_test), len(y_test) # вид 30 ирисов будем предсказывать\n"
   ]
  },
  {
   "cell_type": "code",
   "execution_count": 14,
   "metadata": {},
   "outputs": [
    {
     "name": "stdout",
     "output_type": "stream",
     "text": [
      "[6.1, 2.8]\n",
      "Iris-versicolor\n"
     ]
    }
   ],
   "source": [
    "print(X_test[0])\n",
    "print(y_test[0])"
   ]
  },
  {
   "cell_type": "markdown",
   "metadata": {},
   "source": [
    "## Простая реализация kNN\n",
    "Теперь, имея обучающую выборку, можно реализовать и сам алгоритм классификации. В качестве способа нахождения расстояния от искомой точки до ближайщих соседей, будем использовать `евклидово расстояние`. Для определения расстояния между объектами можно использовать не только евклидово расстояние: также применяются манхэттенское расстояние, косинусная мера, критерий корелляции Пирсона и др.\n",
    "\n",
    "![](https://upload.wikimedia.org/wikipedia/commons/thumb/5/55/Euclidean_distance_2d.svg/220px-Euclidean_distance_2d.svg.png)"
   ]
  },
  {
   "cell_type": "code",
   "execution_count": 15,
   "metadata": {},
   "outputs": [],
   "source": [
    "def dist(a, b):\n",
    "    return ((a[0] - b[0])**2 + (a[1] - b[1])**2)**0.5"
   ]
  },
  {
   "cell_type": "code",
   "execution_count": 20,
   "metadata": {},
   "outputs": [],
   "source": [
    "def predict(X_train, y_train, x_test, k):\n",
    "    # создадим список, где будем хранить расстояния и типы ближайших соседей\n",
    "    distances = []\n",
    "    targets = {}\n",
    "\n",
    "    for i in range(len(X_train)):\n",
    "        # пройдем по всем точкам и посчитаем расстояние до них от тестовой точки\n",
    "        distances.append([dist(x_test,X_train[i]), i])\n",
    "\n",
    "    # отсортируем расстояния\n",
    "    distances = sorted(distances)\n",
    "    \n",
    "    # создадим словарь с k ближайщими значениями\n",
    "    for i in range(k):\n",
    "        index = distances[i][1]\n",
    "        if targets.get(y_train[index]) != None:\n",
    "            targets[y_train[index]] += 1\n",
    "        else:\n",
    "            targets[y_train[index]] = 1\n",
    "        \n",
    "    # вернем самую часто встречающаюся метку\n",
    "    return max(targets,key=targets.get)"
   ]
  },
  {
   "cell_type": "code",
   "execution_count": null,
   "metadata": {},
   "outputs": [],
   "source": []
  },
  {
   "cell_type": "markdown",
   "metadata": {},
   "source": [
    "Мы создали изначально список distances и словарь targets. В distances мы будем хранить расстояния от искомой точки, до всех остальных + индекс этих точек (чтобы можно было их потом найти). А в targets - ближайших k-соседей для точки, с которой работаем\n",
    "\n",
    "После нахождения всех расстояний, мы сортируем массив по возрастанию дальности точек. Потом мы берем первые k точек в начале списка distances и записываем количество встречающихся лейблов в этих k точках.\n",
    "\n",
    "И возвращаем лейбл, который встречается чаще всего.\n",
    "\n",
    "Давайте теперь попробуем предсказать метки для наших 30 точек."
   ]
  },
  {
   "cell_type": "code",
   "execution_count": 24,
   "metadata": {},
   "outputs": [
    {
     "name": "stdout",
     "output_type": "stream",
     "text": [
      "['Iris-versicolor', 'Iris-setosa', 'Iris-virginica', 'Iris-versicolor', 'Iris-versicolor', 'Iris-setosa', 'Iris-versicolor', 'Iris-versicolor', 'Iris-virginica', 'Iris-versicolor', 'Iris-virginica', 'Iris-setosa', 'Iris-setosa', 'Iris-setosa', 'Iris-setosa', 'Iris-virginica', 'Iris-versicolor', 'Iris-versicolor', 'Iris-virginica', 'Iris-virginica', 'Iris-setosa', 'Iris-versicolor', 'Iris-setosa', 'Iris-virginica', 'Iris-virginica', 'Iris-versicolor', 'Iris-versicolor', 'Iris-virginica', 'Iris-setosa', 'Iris-setosa']\n"
     ]
    }
   ],
   "source": [
    "# Создадим список с будущими предсказаниями\n",
    "predictions = []\n",
    "# количество соседей\n",
    "k = 7\n",
    "# идем по все тестовым данным\n",
    "for i in range(len(X_test)):\n",
    "    predictions.append(predict(X_train, y_train, X_test[i], k))\n",
    "    \n",
    "print(predictions)"
   ]
  },
  {
   "cell_type": "markdown",
   "metadata": {},
   "source": [
    "Удобно, что мы знаем правильные ответы и можем свериться. "
   ]
  },
  {
   "cell_type": "code",
   "execution_count": 27,
   "metadata": {},
   "outputs": [
    {
     "name": "stdout",
     "output_type": "stream",
     "text": [
      "['Iris-versicolor', 'Iris-setosa', 'Iris-virginica', 'Iris-versicolor', 'Iris-versicolor', 'Iris-setosa', 'Iris-versicolor', 'Iris-virginica', 'Iris-versicolor', 'Iris-versicolor', 'Iris-virginica', 'Iris-setosa', 'Iris-setosa', 'Iris-setosa', 'Iris-setosa', 'Iris-versicolor', 'Iris-virginica', 'Iris-versicolor', 'Iris-versicolor', 'Iris-virginica', 'Iris-setosa', 'Iris-virginica', 'Iris-setosa', 'Iris-virginica', 'Iris-virginica', 'Iris-virginica', 'Iris-virginica', 'Iris-virginica', 'Iris-setosa', 'Iris-setosa']\n",
      "False\n"
     ]
    }
   ],
   "source": [
    "print(y_test)\n",
    "print(predictions == y_test) # Где-то есть разница"
   ]
  },
  {
   "cell_type": "markdown",
   "metadata": {},
   "source": [
    "Визуализируем изначальные метки. Переведем текстовые значения меток в численные, чтобы можно было построить график, где точки разного цвета (аргумент, которые отвечает за цвет в matplotlib, принимает категории, записанные числами)."
   ]
  },
  {
   "cell_type": "code",
   "execution_count": 33,
   "metadata": {},
   "outputs": [],
   "source": [
    "colors = []\n",
    "for c in y_train:\n",
    "    if c == \"Iris-setosa\":\n",
    "        colors.append(0)\n",
    "    elif c == \"Iris-versicolor\":\n",
    "        colors.append(1)\n",
    "    else:\n",
    "        colors.append(2)"
   ]
  },
  {
   "cell_type": "code",
   "execution_count": 35,
   "metadata": {},
   "outputs": [
    {
     "data": {
      "image/png": "[encoded data removed]",
      "text/plain": [
       "<Figure size 432x288 with 1 Axes>"
      ]
     },
     "metadata": {},
     "output_type": "display_data"
    }
   ],
   "source": [
    "import matplotlib\n",
    "import matplotlib.pyplot as plt\n",
    "\n",
    "plt.scatter([item[0] for item in X_train], [item[1] for item in X_train], c=colors)\n",
    "plt.title(\"Iris Train Dataset\")\n",
    "plt.show()"
   ]
  },
  {
   "cell_type": "markdown",
   "metadata": {},
   "source": [
    "А теперь то, что предсказали и правильные \"ответы.\""
   ]
  },
  {
   "cell_type": "code",
   "execution_count": 36,
   "metadata": {},
   "outputs": [],
   "source": [
    "colors = []\n",
    "for c in predictions:\n",
    "    if c == \"Iris-setosa\":\n",
    "        colors.append(0)\n",
    "    elif c == \"Iris-versicolor\":\n",
    "        colors.append(1)\n",
    "    else:\n",
    "        colors.append(2)\n",
    "        \n",
    "colors_actual = []\n",
    "for c in y_test:\n",
    "    if c == \"Iris-setosa\":\n",
    "        colors_actual.append(0)\n",
    "    elif c == \"Iris-versicolor\":\n",
    "        colors_actual.append(1)\n",
    "    else:\n",
    "        colors_actual.append(2)"
   ]
  },
  {
   "cell_type": "code",
   "execution_count": 37,
   "metadata": {},
   "outputs": [
    {
     "data": {
      "image/png": "[encoded data removed]",
      "text/plain": [
       "<Figure size 432x288 with 1 Axes>"
      ]
     },
     "metadata": {},
     "output_type": "display_data"
    }
   ],
   "source": [
    "plt.scatter([item[0] for item in X_test], [item[1] for item in X_test], c=colors)\n",
    "plt.title(\"Iris Predicted\")\n",
    "plt.show()"
   ]
  },
  {
   "cell_type": "code",
   "execution_count": 38,
   "metadata": {},
   "outputs": [
    {
     "data": {
      "image/png": "[encoded data removed]",
      "text/plain": [
       "<Figure size 432x288 with 1 Axes>"
      ]
     },
     "metadata": {},
     "output_type": "display_data"
    }
   ],
   "source": [
    "plt.scatter([item[0] for item in X_test], [item[1] for item in X_test], c=colors_actual)\n",
    "plt.title(\"Iris Actual\")\n",
    "plt.show()"
   ]
  },
  {
   "cell_type": "markdown",
   "metadata": {},
   "source": [
    "Видим небольшое расхождение. Давайте посчитаем метрику количества правильно пресказанных объектов (accuracy). Ее тоже несложно реализовать."
   ]
  },
  {
   "cell_type": "code",
   "execution_count": 39,
   "metadata": {},
   "outputs": [
    {
     "name": "stdout",
     "output_type": "stream",
     "text": [
      "22 / 30\n"
     ]
    },
    {
     "data": {
      "text/plain": [
       "0.7333333333333333"
      ]
     },
     "execution_count": 39,
     "metadata": {},
     "output_type": "execute_result"
    }
   ],
   "source": [
    "correct = 0\n",
    "for i in range(len(y_test)):\n",
    "    if y_test[i] == predictions[i]: # считаем количество правильно предсказанных объектов\n",
    "        correct += 1\n",
    "        \n",
    "print(correct, '/', len(y_test))\n",
    "correct/len(y_test) # находим часть от целого"
   ]
  },
  {
   "cell_type": "markdown",
   "metadata": {},
   "source": [
    "Из 30 значений, 22 оказалось верным, что дает нам 73% правильности классификации."
   ]
  },
  {
   "cell_type": "markdown",
   "metadata": {},
   "source": [
    "## Реализация kNN в виде класса\n",
    "\n",
    "У нас уже есть все нужные нам кирпичики, поэтому реализуем kNN в виде класса. Он у нас будет состоять из конструктора, где мы инициализруем переменные, метода `dist`, который возвращает евклидово расстояние, метода `fit`, который будет задавать переменные обучающей выборки, и метода `predict`, который будет считать дистанции возвращать нам предсказанные значения. Также создадим метод `score`, считающуй accuracy,  и метод `plot`, который будет рисовать графики."
   ]
  },
  {
   "cell_type": "code",
   "execution_count": 40,
   "metadata": {},
   "outputs": [],
   "source": [
    "class KNN:\n",
    "    \"\"\"\n",
    "    k-NN классификатор\n",
    "\n",
    "    Возвращает: предсказания k-NN\n",
    "    \"\"\"\n",
    "\n",
    "    def __init__(self, k):\n",
    "        self.X_train = None\n",
    "        self.y_train = None\n",
    "        self.k = k\n",
    "        self.predictions = []"
   ]
  },
  {
   "cell_type": "markdown",
   "metadata": {},
   "source": [
    "Конструктор у нас будет просто инициализировать переменные. Как правило в ML мы создаем экземпляр класса не на данных, а с определенными параметрами (например, задаем количество соседей). А данные будем уже передавать методу .fit() (обучение). Чтобы обучать нам сначала нужно определить метод, считающий расстояние. Т.к. этот метод не принимает данные напрямую, а будет только вызываться в predict(), то объявим его статическим. Также \"скроем\" его нижним подчеркиванием (намекнем, что мы не предполагаем, что этот метод должен вызываться от объекта класса)."
   ]
  },
  {
   "cell_type": "code",
   "execution_count": 45,
   "metadata": {},
   "outputs": [],
   "source": [
    "class KNN:\n",
    "    \"\"\"\n",
    "    k-NN классификатор\n",
    "\n",
    "    Возвращает: предсказания k-NN\n",
    "    \"\"\"\n",
    "\n",
    "    def __init__(self, k):\n",
    "        self.X_train = None\n",
    "        self.y_train = None\n",
    "        self.k = k\n",
    "        self.predictions = []\n",
    "    \n",
    "    @staticmethod\n",
    "    def _dist(a, b):\n",
    "        \"\"\"\n",
    "        Расстояние евклида\n",
    "        Принимает на вход два вектора\n",
    "\n",
    "        Возвращает: число с плавающей точкой\n",
    "        \"\"\"\n",
    "        return ((a[0] - b[0])**2 + (a[1] - b[1])**2)**0.5"
   ]
  },
  {
   "cell_type": "code",
   "execution_count": 47,
   "metadata": {},
   "outputs": [
    {
     "data": {
      "text/plain": [
       "2.8284271247461903"
      ]
     },
     "execution_count": 47,
     "metadata": {},
     "output_type": "execute_result"
    }
   ],
   "source": [
    "test = KNN(2)\n",
    "test._dist([2,4],[4,2]) # но проверить, что работает можем!"
   ]
  },
  {
   "cell_type": "markdown",
   "metadata": {},
   "source": [
    "Теперь давайте определим метод .fit(). Это уже будет динамический метод, который вызывается от экземпляра класса. fit() должен находить расстояние от всех наших тестовых точек до тренировочных."
   ]
  },
  {
   "cell_type": "code",
   "execution_count": 49,
   "metadata": {},
   "outputs": [],
   "source": [
    "class KNN:\n",
    "    \"\"\"\n",
    "    k-NN классификатор\n",
    "\n",
    "    Возвращает: предсказания k-NN\n",
    "    \"\"\"\n",
    "\n",
    "    def __init__(self, k):\n",
    "        self.X_train = None\n",
    "        self.y_train = None\n",
    "        self.k = k\n",
    "        self.predictions = []\n",
    "    \n",
    "    @staticmethod\n",
    "    def _dist(a, b):\n",
    "        \"\"\"\n",
    "        Расстояние евклида\n",
    "        Принимает на вход два вектора\n",
    "\n",
    "        Возвращает: число с плавающей точкой\n",
    "        \"\"\"\n",
    "        return ((a[0] - b[0])**2 + (a[1] - b[1])**2)**0.5\n",
    "    \n",
    "    def fit(self, X_train, y_train, k):\n",
    "        \"\"\"\n",
    "        Принимает на вход два массива с данными: тренировочный Х и тренировочные лейблы\n",
    "        \"\"\"\n",
    "        self.X_train = X_train\n",
    "        self.y_train = y_train"
   ]
  },
  {
   "cell_type": "markdown",
   "metadata": {},
   "source": [
    "Теперь реализуем predict() - здесь уже будет происходить много всего. Метод будет принимать тестовые точки и находить расстояние от них всех до тренировочных точек. Потом будет брать k соседей и предсказывать по ним класс объекта."
   ]
  },
  {
   "cell_type": "code",
   "execution_count": 55,
   "metadata": {},
   "outputs": [],
   "source": [
    "class KNN:\n",
    "    \"\"\"\n",
    "    k-NN классификатор\n",
    "\n",
    "    Возвращает: предсказания k-NN\n",
    "    \"\"\"\n",
    "\n",
    "    def __init__(self, k):\n",
    "        self.X_train = None\n",
    "        self.y_train = None\n",
    "        self.k = k\n",
    "        self.predictions = []\n",
    "    \n",
    "    @staticmethod\n",
    "    def _dist(a, b):\n",
    "        \"\"\"\n",
    "        Расстояние евклида\n",
    "        Принимает на вход два вектора\n",
    "\n",
    "        Возвращает: число с плавающей точкой\n",
    "        \"\"\"\n",
    "        return ((a[0] - b[0])**2 + (a[1] - b[1])**2)**0.5\n",
    "    \n",
    "    def fit(self, X_train, y_train):\n",
    "        \"\"\"\n",
    "        Принимает на вход два массива с данными: тренировочный Х и тренировочные лейблы\n",
    "        \"\"\"\n",
    "        self.X_train = X_train\n",
    "        self.y_train = y_train\n",
    "        \n",
    "    def predict(self, X_test):\n",
    "        \"\"\"\n",
    "        Принимает на вход двумерный массив искомых точек\n",
    "\n",
    "        Возвращает: список предсказаний\n",
    "        \"\"\"\n",
    "        \n",
    "        for i in range(len(X_test)):\n",
    "            distances = []\n",
    "            targets = {}\n",
    "\n",
    "            for j in range(len(X_train)):\n",
    "                # пройдем по всем точкам и посчитаем расстояние до них от тестовой точки\n",
    "                distances.append([self._dist(X_test[i], X_train[j]), j])\n",
    "\n",
    "            # отсортируем расстояния\n",
    "            distances = sorted(distances)\n",
    "\n",
    "            # создадим словарь с k ближайщими значениями\n",
    "            for j in range(self.k):\n",
    "                index = distances[j][1]\n",
    "                if targets.get(y_train[index]) != None:\n",
    "                    targets[y_train[index]] += 1\n",
    "                else:\n",
    "                    targets[y_train[index]] = 1\n",
    "\n",
    "            # вернем самую часто встречающаюся метку\n",
    "            self.predictions.append(max(targets,key=targets.get))\n",
    "\n",
    "        return self.predictions"
   ]
  },
  {
   "cell_type": "markdown",
   "metadata": {},
   "source": [
    "Давайте попробуем эти методы в деле."
   ]
  },
  {
   "cell_type": "code",
   "execution_count": 56,
   "metadata": {},
   "outputs": [
    {
     "name": "stdout",
     "output_type": "stream",
     "text": [
      "['Iris-versicolor', 'Iris-setosa', 'Iris-virginica', 'Iris-versicolor', 'Iris-versicolor', 'Iris-setosa', 'Iris-versicolor', 'Iris-versicolor', 'Iris-virginica', 'Iris-versicolor', 'Iris-virginica', 'Iris-setosa', 'Iris-setosa', 'Iris-setosa', 'Iris-setosa', 'Iris-virginica', 'Iris-versicolor', 'Iris-versicolor', 'Iris-virginica', 'Iris-virginica', 'Iris-setosa', 'Iris-versicolor', 'Iris-setosa', 'Iris-virginica', 'Iris-virginica', 'Iris-versicolor', 'Iris-versicolor', 'Iris-virginica', 'Iris-setosa', 'Iris-setosa']\n"
     ]
    }
   ],
   "source": [
    "knn = KNN(7)\n",
    "knn.fit(X_train,y_train)\n",
    "pred = knn.predict(X_test)\n",
    "print(pred)"
   ]
  },
  {
   "cell_type": "markdown",
   "metadata": {},
   "source": [
    "А теперь давайте еще добавим два метода - подсчет правильности предсказания и рисование графика. plot() будет строить нам два графика - предсказанные значения и правильные \"ответы\". Метод будет динамическим, но будет принимать один внешний аргумент - y_test. Метод score() давайте для тренировки сделаем статистическим (он будет принимать два внешних списка - предсказанные значения и правильные ответы)."
   ]
  },
  {
   "cell_type": "code",
   "execution_count": 21,
   "metadata": {},
   "outputs": [],
   "source": [
    "class KNN:\n",
    "    \"\"\"\n",
    "    k-NN классификатор\n",
    "\n",
    "    Возвращает: предсказания k-NN\n",
    "    \"\"\"\n",
    "\n",
    "    def __init__(self, k):\n",
    "        self.X_train = None\n",
    "        self.y_train = None\n",
    "        self.k = k\n",
    "        self.predictions = []\n",
    "    \n",
    "    @staticmethod\n",
    "    def _dist(a, b):\n",
    "        \"\"\"\n",
    "        Расстояние евклида\n",
    "        Принимает на вход два вектора\n",
    "\n",
    "        Возвращает: число с плавающей точкой\n",
    "        \"\"\"\n",
    "        return ((a[0] - b[0])**2 + (a[1] - b[1])**2)**0.5\n",
    "    \n",
    "    @staticmethod\n",
    "    def score(y_test, predictions):\n",
    "        \"\"\"\n",
    "        Принимает на вход два массива с данными: тестовый и предсказанный\n",
    "\n",
    "        Возвращает: число с плавающей точкой\n",
    "        \"\"\"\n",
    "        correct = 0\n",
    "        for i in range(len(y_test)):\n",
    "            if y_test[i] == predictions[i]:\n",
    "                correct += 1\n",
    "        return correct/len(y_test)\n",
    "    \n",
    "    def fit(self, X_train, y_train):\n",
    "        \"\"\"\n",
    "        Принимает на вход два массива с данными: тренировочный Х и тренировочные лейблы\n",
    "        \"\"\"\n",
    "        self.X_train = X_train\n",
    "        self.y_train = y_train\n",
    "        \n",
    "    def predict(self, X_test):\n",
    "        \"\"\"\n",
    "        Принимает на вход двумерный массив искомых точек\n",
    "\n",
    "        Возвращает: список предсказаний\n",
    "        \"\"\"\n",
    "        self.X_test = X_test\n",
    "        \n",
    "        for i in range(len(self.X_test)):\n",
    "            distances = []\n",
    "            targets = {}\n",
    "\n",
    "            for j in range(len(self.X_train)):\n",
    "                # пройдем по всем точкам и посчитаем расстояние до них от тестовой точки\n",
    "                distances.append([self._dist(self.X_test[i], self.X_train[j]), j])\n",
    "\n",
    "            # отсортируем расстояния\n",
    "            distances = sorted(distances)\n",
    "\n",
    "            # создадим словарь с k ближайщими значениями\n",
    "            for j in range(self.k):\n",
    "                index = distances[j][1]\n",
    "                if targets.get(self.y_train[index]) != None:\n",
    "                    targets[self.y_train[index]] += 1\n",
    "                else:\n",
    "                    targets[self.y_train[index]] = 1\n",
    "\n",
    "            # вернем самую часто встречающаюся метку\n",
    "            self.predictions.append(max(targets,key=targets.get))\n",
    "\n",
    "        return self.predictions\n",
    "\n",
    "    def plot(self, y_test):\n",
    "        \"\"\"\n",
    "        Принимает на вход массив меток объектов. \n",
    "\n",
    "        Возвращает два графика (предсказанные метки и правильные метки)\n",
    "        \"\"\"\n",
    "        colors_test = []\n",
    "        for c in y_test:\n",
    "            if c == \"Iris-setosa\":\n",
    "                colors_test.append(0)\n",
    "            elif c == \"Iris-versicolor\":\n",
    "                colors_test.append(1)\n",
    "            else:\n",
    "                colors_test.append(2)\n",
    "\n",
    "        plt.scatter([item[0] for item in self.X_test], [item[1] for item in self.X_test], c=colors_test)\n",
    "        plt.title(\"Real Data\")\n",
    "        plt.show()\n",
    "\n",
    "        colors_predict = []\n",
    "        for c in self.predictions:\n",
    "            if c == \"Iris-setosa\":\n",
    "                colors_predict.append(0)\n",
    "            elif c == \"Iris-versicolor\":\n",
    "                colors_predict.append(1)\n",
    "            else:\n",
    "                colors_predict.append(2)\n",
    "\n",
    "        plt.scatter([item[0] for item in self.X_test], [item[1] for item in self.X_test], c=colors_predict)\n",
    "        plt.title(\"Predicted\")\n",
    "        plt.show()\n"
   ]
  },
  {
   "cell_type": "code",
   "execution_count": 22,
   "metadata": {},
   "outputs": [
    {
     "name": "stdout",
     "output_type": "stream",
     "text": [
      "1.0\n"
     ]
    },
    {
     "data": {
      "image/png": "[encoded data removed]",
      "text/plain": [
       "<Figure size 432x288 with 1 Axes>"
      ]
     },
     "metadata": {
      "needs_background": "light"
     },
     "output_type": "display_data"
    },
    {
     "data": {
      "image/png": "[encoded data removed]",
      "text/plain": [
       "<Figure size 432x288 with 1 Axes>"
      ]
     },
     "metadata": {
      "needs_background": "light"
     },
     "output_type": "display_data"
    }
   ],
   "source": [
    "knn = KNN(7)\n",
    "knn.fit(X_train,y_train)\n",
    "pred = knn.predict(X_test)\n",
    "print(knn.score(pred,pred))\n",
    "knn.plot(y_test)"
   ]
  },
  {
   "cell_type": "markdown",
   "metadata": {},
   "source": [
    "## Класс kNN с другой функций расстояния\n",
    "\n",
    "Давайт создадим второй класс kNN, который теперь использует другую функцию расстояния. Создавать второй класс с нуля не будем, а воспользуемся свойством классов - наследование. В новой классе поменяем только функцию расстояния, а все остальное оставим таким же. Для нахождения косинусной меры, используем функцию `cosine` из библиотеки `scipy`.\n",
    "\n",
    "![](https://datascience-enthusiast.com/figures/cosine_sim.png)"
   ]
  },
  {
   "cell_type": "code",
   "execution_count": 86,
   "metadata": {},
   "outputs": [],
   "source": [
    "from scipy.spatial import distance\n",
    "\n",
    "class cosKNN(KNN):\n",
    "    \n",
    "    @staticmethod\n",
    "    def _dist(a,b):\n",
    "        \"\"\"\n",
    "        Через косинусную меру\n",
    "\n",
    "        возвращаетs: число с плавающей точкой\n",
    "        \"\"\"\n",
    "        return distance.cosine(a,b)"
   ]
  },
  {
   "cell_type": "code",
   "execution_count": 89,
   "metadata": {},
   "outputs": [
    {
     "name": "stdout",
     "output_type": "stream",
     "text": [
      "0.6666666666666666\n"
     ]
    },
    {
     "data": {
      "image/png": "[encoded data removed]",
      "text/plain": [
       "<Figure size 432x288 with 1 Axes>"
      ]
     },
     "metadata": {},
     "output_type": "display_data"
    },
    {
     "data": {
      "image/png": "[encoded data removed]",
      "text/plain": [
       "<Figure size 432x288 with 1 Axes>"
      ]
     },
     "metadata": {},
     "output_type": "display_data"
    }
   ],
   "source": [
    "cos_kNN = cosKNN(7)\n",
    "cos_kNN.fit(X_train,y_train)\n",
    "pred = cos_kNN.predict(X_test)\n",
    "print(cosKNN.score(y_test,pred))\n",
    "cos_kNN.plot(y_test)"
   ]
  },
  {
   "cell_type": "markdown",
   "metadata": {},
   "source": [
    "## Класс kNN с поддержкой нескольких функций расстояния\n",
    "\n",
    "Выше мы создали два класса, один из которых наследовался с новой функцией расстояния (метрикой). Но это все можно было реализовать в рамках нашего одного базового класса. Давайте применим все наши знания о классах и создадим его,также модицифируем метод `score` (сделаем его динамическим и будем передавать предсказания, уже полученные внутри класса) и `dist` (добавим функционал выбора метрики, которую будем передавать в конструкторе)."
   ]
  },
  {
   "cell_type": "code",
   "execution_count": 130,
   "metadata": {},
   "outputs": [],
   "source": [
    "class ultimateKNN:\n",
    "    \"\"\"\n",
    "    k-NN классификатор\n",
    "\n",
    "    Возвращает: предсказания k-NN\n",
    "    \"\"\"\n",
    "\n",
    "    def __init__(self, k=3, metric='eucl'): # зададим соседей и метрики по умолчанию\n",
    "        self.X_train = None\n",
    "        self.y_train = None\n",
    "        self.k = k\n",
    "        self.metric = metric\n",
    "        self.predictions = []\n",
    "    \n",
    "    def _dist(self, a, b):\n",
    "        \"\"\"\n",
    "        Расстояние Евклида или косинусная мера\n",
    "        Принимает на вход два вектора\n",
    "\n",
    "        Возвращает: число с плавающей точкой\n",
    "        \"\"\"\n",
    "        if self.metric == \"eucl\":\n",
    "            return ((a[0] - b[0])**2 + (a[1] - b[1])**2)**0.5\n",
    "        elif self.metric == \"cos\":\n",
    "            return distance.cosine(a,b)\n",
    "    \n",
    "    def score(self, y_test):\n",
    "        \"\"\"\n",
    "        Принимает на вход массив с тестовыми данными\n",
    "\n",
    "        Возвращает: число с плавающей точкой\n",
    "        \"\"\"\n",
    "        k = 0\n",
    "        for i in range(len(y_test)):\n",
    "            if y_test[i] == self.predictions[i]:\n",
    "                k += 1\n",
    "        return k/len(y_test)\n",
    "    \n",
    "    def fit(self, X_train, y_train):\n",
    "        \"\"\"\n",
    "        Принимает на вход два массива с данными: тренировочный Х и тренировочные лейблы\n",
    "        \"\"\"\n",
    "        self.X_train = X_train\n",
    "        self.y_train = y_train\n",
    "        \n",
    "    def predict(self, X_test):\n",
    "        \"\"\"\n",
    "        Принимает на вход двумерный массив искомых точек\n",
    "\n",
    "        Возвращает: список предсказаний\n",
    "        \"\"\"\n",
    "        self.X_test = X_test\n",
    "        \n",
    "        for i in range(len(self.X_test)):\n",
    "            distances = []\n",
    "            targets = {}\n",
    "\n",
    "            for j in range(len(self.X_train)):\n",
    "                # пройдем по всем точкам и посчитаем расстояние до них от тестовой точки\n",
    "                distances.append([self._dist(self.X_test[i], self.X_train[j]), j])\n",
    "\n",
    "            # отсортируем расстояния\n",
    "            distances = sorted(distances)\n",
    "\n",
    "            # создадим словарь с k ближайщими значениями\n",
    "            for j in range(self.k):\n",
    "                index = distances[j][1]\n",
    "                if targets.get(self.y_train[index]) != None:\n",
    "                    targets[self.y_train[index]] += 1\n",
    "                else:\n",
    "                    targets[self.y_train[index]] = 1\n",
    "\n",
    "            # вернем самую часто встречающаюся метку\n",
    "            self.predictions.append(max(targets,key=targets.get))\n",
    "\n",
    "        return self.predictions\n",
    "\n",
    "    def plot(self, y_test):\n",
    "        \"\"\"\n",
    "        Принимает на вход массив меток объектов. \n",
    "\n",
    "        Возвращает два графика (предсказанные метки и правильные метки)\n",
    "        \"\"\"\n",
    "        colors_test = []\n",
    "        for c in y_test:\n",
    "            if c == \"Iris-setosa\":\n",
    "                colors_test.append(0)\n",
    "            elif c == \"Iris-versicolor\":\n",
    "                colors_test.append(1)\n",
    "            else:\n",
    "                colors_test.append(2)\n",
    "\n",
    "        plt.scatter([item[0] for item in self.X_test], [item[1] for item in self.X_test], c=colors_test)\n",
    "        plt.title(\"Real Data\")\n",
    "        plt.show()\n",
    "\n",
    "        colors_predict = []\n",
    "        for c in self.predictions:\n",
    "            if c == \"Iris-setosa\":\n",
    "                colors_predict.append(0)\n",
    "            elif c == \"Iris-versicolor\":\n",
    "                colors_predict.append(1)\n",
    "            else:\n",
    "                colors_predict.append(2)\n",
    "\n",
    "        plt.scatter([item[0] for item in self.X_test], [item[1] for item in self.X_test], c=colors_predict)\n",
    "        plt.title(\"Predicted\")\n",
    "        plt.show()\n"
   ]
  },
  {
   "cell_type": "code",
   "execution_count": 131,
   "metadata": {},
   "outputs": [
    {
     "name": "stdout",
     "output_type": "stream",
     "text": [
      "['Iris-versicolor', 'Iris-setosa', 'Iris-virginica', 'Iris-versicolor', 'Iris-virginica', 'Iris-setosa', 'Iris-versicolor', 'Iris-versicolor', 'Iris-virginica', 'Iris-versicolor', 'Iris-versicolor', 'Iris-setosa', 'Iris-setosa', 'Iris-setosa', 'Iris-setosa', 'Iris-versicolor', 'Iris-virginica', 'Iris-versicolor', 'Iris-versicolor', 'Iris-versicolor', 'Iris-setosa', 'Iris-versicolor', 'Iris-setosa', 'Iris-versicolor', 'Iris-versicolor', 'Iris-versicolor', 'Iris-virginica', 'Iris-versicolor', 'Iris-setosa', 'Iris-setosa']\n",
      "0.6666666666666666\n"
     ]
    }
   ],
   "source": [
    "ult_kNN = ultimateKNN(7,metric='cos')\n",
    "ult_kNN.fit(X_train,y_train)\n",
    "print(ult_kNN.predict(X_test))\n",
    "print(ult_kNN.score(y_test))"
   ]
  },
  {
   "cell_type": "code",
   "execution_count": 132,
   "metadata": {},
   "outputs": [
    {
     "name": "stdout",
     "output_type": "stream",
     "text": [
      "['Iris-versicolor', 'Iris-setosa', 'Iris-virginica', 'Iris-versicolor', 'Iris-versicolor', 'Iris-setosa', 'Iris-versicolor', 'Iris-versicolor', 'Iris-virginica', 'Iris-versicolor', 'Iris-virginica', 'Iris-setosa', 'Iris-setosa', 'Iris-setosa', 'Iris-setosa', 'Iris-virginica', 'Iris-versicolor', 'Iris-versicolor', 'Iris-virginica', 'Iris-virginica', 'Iris-setosa', 'Iris-versicolor', 'Iris-setosa', 'Iris-virginica', 'Iris-virginica', 'Iris-versicolor', 'Iris-versicolor', 'Iris-virginica', 'Iris-setosa', 'Iris-setosa']\n",
      "0.7333333333333333\n"
     ]
    }
   ],
   "source": [
    "ult_kNN = ultimateKNN(7)\n",
    "ult_kNN.fit(X_train,y_train)\n",
    "print(ult_kNN.predict(X_test))\n",
    "print(ult_kNN.score(y_test))"
   ]
  },
  {
   "cell_type": "markdown",
   "metadata": {},
   "source": [
    "Давайте теперь сделаем сетку - построим несколько кнн классификаторов с разными `k` и посмотрим какой из них круче."
   ]
  },
  {
   "cell_type": "code",
   "execution_count": 136,
   "metadata": {},
   "outputs": [
    {
     "name": "stdout",
     "output_type": "stream",
     "text": [
      "k = 1 , Score: 0.7\n",
      "k = 2 , Score: 0.7\n",
      "k = 3 , Score: 0.6666666666666666\n",
      "k = 4 , Score: 0.6\n",
      "k = 5 , Score: 0.6333333333333333\n",
      "k = 6 , Score: 0.6666666666666666\n",
      "k = 7 , Score: 0.6666666666666666\n",
      "k = 8 , Score: 0.7333333333333333\n",
      "k = 9 , Score: 0.6666666666666666\n"
     ]
    }
   ],
   "source": [
    "for k in range(1,10):\n",
    "    knn = ultimateKNN(k, metric='cos')\n",
    "    knn.fit(X_train,y_train)\n",
    "    knn.predict(X_test)\n",
    "    print(\"k = \" + str(k), \", Score: \" + str(knn.score(y_test)))"
   ]
  },
  {
   "cell_type": "code",
   "execution_count": 137,
   "metadata": {},
   "outputs": [
    {
     "name": "stdout",
     "output_type": "stream",
     "text": [
      "k = 1 , Score: 0.8\n",
      "k = 2 , Score: 0.8\n",
      "k = 3 , Score: 0.8\n",
      "k = 4 , Score: 0.8666666666666667\n",
      "k = 5 , Score: 0.8\n",
      "k = 6 , Score: 0.8666666666666667\n",
      "k = 7 , Score: 0.7333333333333333\n",
      "k = 8 , Score: 0.8\n",
      "k = 9 , Score: 0.8\n"
     ]
    }
   ],
   "source": [
    "for k in range(1,10):\n",
    "    knn = ultimateKNN(k)\n",
    "    knn.fit(X_train,y_train)\n",
    "    knn.predict(X_test)\n",
    "    print(\"k = \" + str(k), \", Score: \" + str(knn.score(y_test)))"
   ]
  },
  {
   "cell_type": "markdown",
   "metadata": {},
   "source": [
    "Как мы видим, евклидово расстояние на нашем датасете работает лучше.\n",
    "\n",
    "# Заключение\n",
    "\n",
    "Мы познакомились с классами и создали в качестве примера класс, который реализует метод kNN. kNN — один из простейших алгоритмов классификации, у которого все же есть свои недостатки. Помимо точности классификации, проблемой этого классификатора является скорость классификации: если в обучающей выборке `N` объектов, в тестовой выборке `M` объектов, а размерность пространства — `K`, то количество операций для классификации тестовой выборки может быть оценено как `O(K\\*M\\*N)`. "
   ]
  }
 ],
 "metadata": {
  "kernelspec": {
   "display_name": "Python 3",
   "language": "python",
   "name": "python3"
  },
  "language_info": {
   "codemirror_mode": {
    "name": "ipython",
    "version": 3
   },
   "file_extension": ".py",
   "mimetype": "text/x-python",
   "name": "python",
   "nbconvert_exporter": "python",
   "pygments_lexer": "ipython3",
   "version": "3.7.6"
  }
 },
 "nbformat": 4,
 "nbformat_minor": 4
}
